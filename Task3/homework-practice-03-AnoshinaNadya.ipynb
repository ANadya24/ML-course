{
 "cells": [
  {
   "cell_type": "markdown",
   "metadata": {},
   "source": [
    "# Машинное обучение, ВМК МГУ\n",
    "\n",
    "## Практическое задание 3"
   ]
  },
  {
   "cell_type": "markdown",
   "metadata": {},
   "source": [
    "### О задании\n",
    "\n",
    "Задание состоит из трех независимых разделов, посвященных bias-variance decomposition, решающим деревьям и композициям алгоритмов. Эти разделы можно выполнять в любом порядке. В каждом разделе вам предложена одна или две задачи, которые, в свою очередь, делятся на пункты. Баллы даются за выполнение пунктов, причем в рамках одной задачи пункты, как правило, зависимы (нельзя решить следующий, не решив предыдущего). Пункты могут быть двух видов: написать скрипт или ответить на вопросы. Задачи в рамках одного раздела рекомендуется решать в том порядке, в котором они даны в задании. В разных задачах используются разные наборы данных, все наборы взяты из репозитория UCI или из соревнования с платформы kaggle. \n",
    "\n",
    "Задание направлено на более глубокое ознакомление с тем, как работают решающие деревья, случайные леса и как устроено разложение на смещение и разброс. Кроме того, задание предполагает проведение экспериментов и анализ их результатов (мини-исследования). \n",
    "\n",
    "### Формат сдачи\n",
    "Для сдачи задания переименуйте получившийся файл *.ipynb в соответствии со следующим форматом: homework-practice-02-Username.ipynb, где Username — ваша фамилия и имя на латинице именно в таком порядке (например, homework-practice-02-IvanovIvan.ipynb). Приложите модули с кодом logreg.py и заархивируйте оба файла вместе в zip формат. Имя архива должно быть homework-practice-02-Username.zip)\n",
    "Далее отправьте этот файл на ml.cmc.msu@gmail.com\n",
    "Для удобства проверки самостоятельно посчитайте свою максимальную оценку (исходя из набора решенных задач) и укажите ниже."
   ]
  },
  {
   "cell_type": "markdown",
   "metadata": {},
   "source": [
    "* Ссылка на посылку в Яндекс.Контесте:\n",
    "* Максимальная оценка: "
   ]
  },
  {
   "cell_type": "markdown",
   "metadata": {},
   "source": [
    "### I. Разложение ошибки на смещение и разброс\n",
    "#### Теоретическое вступление\n",
    "На занятиях мы разбирали примеры аналитического вычисления смещения и разброса нескольких алгоритмов обучения. Для большинства моделей данных и алгоритмов обучения аналитически рассчитать математические ожидания в формулах не удастся. Однако мат. ожидания можно оценивать приближенно. Чтобы оценить математическое ожидание $\\mathbb{E}_{\\bar x} f(\\bar x)$ функции от многомерной случайной величины $\\bar x = (x_1, \\dots, x_d)$, $\\bar x \\sim p(\\bar x)$, можно сгенерировать выборку из распределения $p(\\bar x)$ и усреднить значение функции на элементах этой выборки:\n",
    "$$\\mathbb{E}_{\\bar x} f(x) = \\int f(\\bar x) p(\\bar x) d \\bar x \\approx \\frac 1 m \\sum_{i=1}^m f(\\bar x_i), \\, \\bar x_i \\sim p(\\bar x), i = 1, \\dots, m.$$\n",
    "\n",
    "Для оценки многомерных интегралов ($d > 1$) объекты лучше генерировать, следуя специальным схемам, чтобы адекватно оценивать значение интеграла в областях высокой плотности. Мы не будем так усложнять задачу, а просто будем генерировать $\\bar x_i$ независимо."
   ]
  },
  {
   "cell_type": "code",
   "execution_count": 1,
   "metadata": {
    "collapsed": true
   },
   "outputs": [],
   "source": [
    "import numpy as np"
   ]
  },
  {
   "cell_type": "markdown",
   "metadata": {},
   "source": [
    "Например, оценим $\\mathbb{E}_x x^2,$ $x \\sim \\mathcal{N}(\\mu=5, \\sigma=3)$ (из теории вероятностей мы знаем, что\n",
    "$\\mathbb{E}_x x^2 = \\sigma^2 + \\mu^2 = 34$):"
   ]
  },
  {
   "cell_type": "code",
   "execution_count": 3,
   "metadata": {
    "scrolled": true
   },
   "outputs": [
    {
     "data": {
      "text/plain": [
       "33.57113270589533"
      ]
     },
     "execution_count": 3,
     "metadata": {},
     "output_type": "execute_result"
    }
   ],
   "source": [
    "x = np.random.normal(loc=5, scale=3, size=1000)\n",
    "(x**2).mean()"
   ]
  },
  {
   "cell_type": "markdown",
   "metadata": {},
   "source": [
    "Или посчитаем многомерный интеграл $\\mathbb{E}_{\\bar x} \\bar x^T \\bar x = \\mathbb{E}_{\\bar x} \\sum_{i=1}^d x_i^2$, $\\bar x \\sim \\mathcal{N}(\\bar \\mu=(1, \\dots, 1), \\Sigma=I)$ при $d = 10$ (аналитический ответ 20):"
   ]
  },
  {
   "cell_type": "code",
   "execution_count": 4,
   "metadata": {},
   "outputs": [
    {
     "data": {
      "text/plain": [
       "19.473317213771807"
      ]
     },
     "execution_count": 4,
     "metadata": {},
     "output_type": "execute_result"
    }
   ],
   "source": [
    "d = 10\n",
    "X = np.random.multivariate_normal(np.ones(10), np.eye(10), size=1000)\n",
    "(X**2).sum(axis=1).mean()"
   ]
  },
  {
   "cell_type": "markdown",
   "metadata": {},
   "source": [
    "Чтобы оценить интеграл по выборке, можно сгенерировать несколько выборок, вычислить на них значение функции и усреднить. Например, для интеграла $\\mathbb{E}_X [\\mu(X)(x)]$ генерируются выборки $X_1, \\dots, X_m$, на каждой из них обучается алгоритм $\\mu$ и делается предсказание для объекта $x$."
   ]
  },
  {
   "cell_type": "markdown",
   "metadata": {},
   "source": [
    "#### Практическая часть\n",
    "##### Задача 1. Построение \"среднего\" алгоритма $\\mathbb{E}_X [\\mu(X)]$\n",
    "В этом задании вам нужно построить графики, демонстрирующие, как алгоритм $\\mathbb{E}_X [\\mu(X)]$ аппроксимирует истинную зависимость в данных и как он меняется в зависимости от гиперпараметров метода обучения."
   ]
  },
  {
   "cell_type": "code",
   "execution_count": 5,
   "metadata": {
    "collapsed": true
   },
   "outputs": [],
   "source": [
    "from matplotlib import pyplot as plt\n",
    "%matplotlib inline"
   ]
  },
  {
   "cell_type": "code",
   "execution_count": 6,
   "metadata": {
    "collapsed": true
   },
   "outputs": [],
   "source": [
    "def f(x):\n",
    "    return np.sin(x)   # истинная зависимость в данных\n",
    "sample_size = 100      # длина выборки\n",
    "samples_num = 20       # количество выборок\n",
    "linspace = np.linspace(0, 7, 1000)  # точки для построения графиков"
   ]
  },
  {
   "cell_type": "markdown",
   "metadata": {},
   "source": [
    "__1. (0.3 балла)__\n",
    "1. Сгенерируйте выборку $x$ из одномерного экспоненциального распределения (np.random.exponential) длины sample_size.\n",
    "1. Создайте вектор целевых переменных $y$ как сумму $f(x)$ и случайного шума, сгенерированного из равномерного распределения на отрезке $[-1, 1]$ (np.random.uniform).\n",
    "1. Обучите DecisionTreeRegressor с параметрами по умолчанию на полученной выборке и сделайте предсказания для объектов из linspace.\n",
    "1. Постройте два графика на одном рисунке: $f(x)$ и зависимость, восстановленную решающим деревом.\n",
    "\n",
    "    Рекомендация: не забудьте, что все методы обучения в sklearn требуют на вход двумерную матрицу объекты-признаки. Сделать такую из одномерного вектора можно добавлением мнимых осей (np.newaxis)."
   ]
  },
  {
   "cell_type": "code",
   "execution_count": 7,
   "metadata": {},
   "outputs": [
    {
     "data": {
      "text/plain": [
       "<matplotlib.legend.Legend at 0x10f7ddf28>"
      ]
     },
     "execution_count": 7,
     "metadata": {},
     "output_type": "execute_result"
    },
    {
     "data": {
      "image/png": "[encoded data removed]",
      "text/plain": [
       "<matplotlib.figure.Figure at 0x10f2d5320>"
      ]
     },
     "metadata": {},
     "output_type": "display_data"
    }
   ],
   "source": [
    "from sklearn.tree import DecisionTreeRegressor\n",
    "X = np.random.exponential(size=sample_size)\n",
    "y = f(X) + np.random.uniform(low=-1.0, high=1.0, size=sample_size)\n",
    "tree = DecisionTreeRegressor()\n",
    "tree.fit(X[:,np.newaxis], y)\n",
    "score = tree.predict(linspace[:,np.newaxis])\n",
    "ax = plt.axes()\n",
    "plt.title(\n",
    "    \"$f(x)$ и зависимость, восстановленная решающим деревом\")\n",
    "plt.plot(linspace, f(linspace), label=u\"$f(x)$\")\n",
    "plt.plot(linspace, score, label=u\"Решающее дерево\")\n",
    "ax.set_xlabel(u\"x\")\n",
    "ax.set_ylabel(u\"y\")\n",
    "ax.grid()\n",
    "ax.legend()"
   ]
  },
  {
   "cell_type": "markdown",
   "metadata": {},
   "source": [
    "__2. (0.3 балла)__\n",
    "\n",
    "Повторите первые 3 шага, описанные выше, samples_num раз. На одном графике для каждого обученного решающего дерева визуализируйте восстановленную им зависимость (рекомендуется все такие линии рисовать полупрозрачными и серым цветом: plt.plot(...... color=\"gray\", alpha=0.5)).  На этом же графике изобразите истинную зависимость f(x) (красным цветом: color=\"red\") и усредненную по всем деревьям восстановленную зависимость (черным цветом: color=\"black\").    "
   ]
  },
  {
   "cell_type": "code",
   "execution_count": 8,
   "metadata": {},
   "outputs": [
    {
     "data": {
      "text/plain": [
       "<matplotlib.legend.Legend at 0x110c51f28>"
      ]
     },
     "execution_count": 8,
     "metadata": {},
     "output_type": "execute_result"
    },
    {
     "data": {
      "image/png": "[encoded data removed]",
      "text/plain": [
       "<matplotlib.figure.Figure at 0x110b38080>"
      ]
     },
     "metadata": {},
     "output_type": "display_data"
    }
   ],
   "source": [
    "ax = plt.axes()\n",
    "plt.title(\n",
    "    \"$f(x)$ и зависимости, восстановленные решающим деревом\")\n",
    "plt.plot(linspace, f(linspace), label=u\"$f(x)$\", color=\"red\")\n",
    "ax.set_xlabel(u\"x\")\n",
    "ax.set_ylabel(u\"Значения\")\n",
    "mean_score = np.zeros(linspace.shape)\n",
    "for n in range(samples_num):\n",
    "    X = np.random.exponential(size=sample_size)\n",
    "    y = f(X) + np.random.uniform(low=-1.0, high=1.0, size=sample_size)\n",
    "    tree = DecisionTreeRegressor()\n",
    "    tree.fit(X[:,np.newaxis], y)\n",
    "    score = tree.predict(linspace[:,np.newaxis])\n",
    "    mean_score += score\n",
    "    plt.plot(linspace, score, color=\"gray\", alpha=0.5)\n",
    "mean_score /= samples_num\n",
    "plt.plot(linspace, mean_score, label=u\"Усредненная зависимость\", color=\"black\")\n",
    "ax.grid()\n",
    "ax.legend()"
   ]
  },
  {
   "cell_type": "markdown",
   "metadata": {},
   "source": [
    "__3. (0.1 балла):__\n",
    "Повторите предыдущий пункт, установив максимальную глубину решающего дерева равной 2, а затем равной 4. Таким образом, у вас получится еще два графика. __Избегайте копипасты кода! Сделайте функцию, параметризованную максимальной глубиной дерева, которая отрисовывает необходимые картинки!__"
   ]
  },
  {
   "cell_type": "code",
   "execution_count": 9,
   "metadata": {},
   "outputs": [
    {
     "data": {
      "image/png": "[encoded data removed]",
      "text/plain": [
       "<matplotlib.figure.Figure at 0x1106a8668>"
      ]
     },
     "metadata": {},
     "output_type": "display_data"
    },
    {
     "data": {
      "image/png": "[encoded data removed]",
      "text/plain": [
       "<matplotlib.figure.Figure at 0x1106a8be0>"
      ]
     },
     "metadata": {},
     "output_type": "display_data"
    }
   ],
   "source": [
    "def plot_with_depth(depth=None):\n",
    "    fig = plt.figure()\n",
    "    ax = plt.axes()\n",
    "    fig.suptitle(\n",
    "        \"$f(x)$ и зависимости, восстановленные решающим деревом глубины {}\".format(depth))\n",
    "    plt.plot(linspace, f(linspace), label=u\"$f(x)$\", color=\"red\")\n",
    "    ax.set_xlabel(u\"x\")\n",
    "    ax.set_ylabel(u\"y\")\n",
    "    mean_score = np.zeros(linspace.shape)\n",
    "    for n in range(samples_num):\n",
    "        X = np.random.exponential(size=sample_size)\n",
    "        y = f(X) + np.random.uniform(low=-1.0, high=1.0, size=sample_size)\n",
    "        tree = DecisionTreeRegressor(max_depth=depth)\n",
    "        tree.fit(X[:,np.newaxis], y)\n",
    "        score = tree.predict(linspace[:,np.newaxis])\n",
    "        mean_score += score\n",
    "        plt.plot(linspace, score, color=\"gray\", alpha=0.5)\n",
    "    mean_score /= samples_num\n",
    "    plt.plot(linspace, mean_score, label=u\"Усредненная зависимость\", color=\"black\")\n",
    "    ax.grid()\n",
    "    ax.legend()\n",
    "\n",
    "plot_with_depth(2)\n",
    "plot_with_depth(4)"
   ]
  },
  {
   "cell_type": "markdown",
   "metadata": {},
   "source": [
    "__4. (0.3 балла)__ Что можно сказать о смещении решающих деревьев, исходя из проведенного эксперимента? В каких из трех рассмотренных случаев (без ограничения на глубину дерева и с ограничением 2 и 4) можно утверждать, что смещение решающего дерева близко к нулю?"
   ]
  },
  {
   "cell_type": "markdown",
   "metadata": {},
   "source": [
    "**Ответ:** При увеличении глубины решающего дерева его смещение уменьшается. В этом случае можно утверждать, что глубине дерева 4 смещение решающего дерева наиболее близо к 0."
   ]
  },
  {
   "cell_type": "markdown",
   "metadata": {},
   "source": [
    "#### Задача 2. Приближенное оценивание смещения и разброса\n",
    "Реализуем стохастическую процедуру оценивания смещения и разброса алгоритма.\n",
    "\n",
    "Будем считать, что каждый объект представлен одним признаком, сгенерированным из некоторого распределения, а значение целевой переменной на этом объекте — это сумма истинного значения функции на объекте + шумовая компонента, также сгенерированная из некоторого распределения."
   ]
  },
  {
   "cell_type": "markdown",
   "metadata": {},
   "source": [
    "__5. (1 балл) __ \n",
    "\n",
    "Реализуйте функции compute_bias_variance и compute_bias_variance_fixed_samples из модуля hw3code.py"
   ]
  },
  {
   "cell_type": "code",
   "execution_count": 10,
   "metadata": {
    "collapsed": true
   },
   "outputs": [],
   "source": [
    "def compute_bias_variance(regressor, dependence_fun, x_generator=np.random.uniform, noise_generator=np.random.uniform,\n",
    "                          sample_size=300, samples_num=300, objects_num=200, seed=1234):\n",
    "    \"\"\"\n",
    "    После генерации всех необходимых объектов, должна вызываться функция compute_bias_variance_fixed_samples.\n",
    "\n",
    "    Рекомендации:\n",
    "    * Создайте вектор объектов для оценивания интеграла по $x$, затем вектор зашумленных правильных ответов.\n",
    "      Оцените мат. ожидание шума с помощью генерации отдельной шумовой выборки длины objects_num.\n",
    "    * Проверить правильность реализации можно на примерах, которые разбирались на семинаре и в домашней работе.\n",
    "\n",
    "    :param regressor: объект sklearn-класса, реализующего регрессионный алгоритм (например, DecisionTreeRegressor,\n",
    "     LinearRegression, Lasso, RandomForestRegressor ...)\n",
    "    :param dependence_fun: функция, задающая истинную зависимость в данных. Принимает на вход вектор и возвращает вектор\n",
    "     такой же длины. Примеры: np.sin, lambda x: x**2\n",
    "    :param x_generator: функция, генерирующая одномерную выборку объектов и имеющая параметр size (число объектов в\n",
    "     выборке). По умолчанию np.random.uniform\n",
    "    :param noise_generator: функция, генерирующая одномерную выборку шумовых компонент (по одной на каждый объект) и\n",
    "     имеющая параметр size (число объектов в выборке). По умолчанию np.random.uniform\n",
    "    :param sample_size: число объектов в выборке\n",
    "    :param samples_num: число выборок, которые нужно сгенерировать, чтобы оценить интеграл по X\n",
    "    :param objects_num: число объектов, которые нужно сгенерировать, чтобы оценить интеграл по x\n",
    "    :param seed: seed для функции np.random.seed\n",
    "\n",
    "    :return bias: смещение алгоритма regressor (число)\n",
    "    :return variance: разброс алгоритма regressor (число)\n",
    "    \"\"\"\n",
    "    np.random.seed(seed)\n",
    "    X_l = x_generator(size=(samples_num, sample_size))\n",
    "#     y_l = dependence_fun(X_l) + noise_generator(size=(samples_num, sample_size))\n",
    "    noise = noise_generator(size=(samples_num, sample_size))\n",
    "    noise_X = noise_generator(size=objects_num)\n",
    "    mean_noise = np.mean(noise)\n",
    "    bias, variance = compute_bias_variance_fixed_samples(regressor, dependence_fun,\n",
    "                                                         X_l, noise_X, noise, mean_noise)\n",
    "    return bias, variance\n",
    "\n",
    "\n",
    "def compute_bias_variance_fixed_samples(regressor, dependence_fun, samples, objects, noise, mean_noise):\n",
    "    \"\"\"\n",
    "    В качестве допущения, будем оценивать $E_X\\left[\\mu(X)\\right](x)$ как средний ответ на $x$ из samples_num\n",
    "    алгоритмов, обученных на своих подвыборках $X$\n",
    "\n",
    "    Рекомендации:\n",
    "    * $\\mathbb{E}[y|x]$ оценивается как сумма правильного ответа на объекте и мат. ожидания шума\n",
    "      $\\mathbb{E}_X [\\mu(X)]$ оценивается как в предыдущей задаче: нужно обучить regressor на samples_num выборках длины\n",
    "       sample_size и усреднить предсказания на сгенерированных ранее объектах.\n",
    "\n",
    "    :param regressor: объект sklearn-класса, реализующего регрессионный алгоритм (например, DecisionTreeRegressor,\n",
    "     LinearRegression, Lasso, RandomForestRegressor ...)\n",
    "    :param dependence_fun: функция, задающая истинную зависимость в данных. Принимает на вход вектор и возвращает вектор\n",
    "     такой же длины. Примеры: np.sin, lambda x: x**2\n",
    "    :param samples: samples_num выборок длины sample_size для оценки интеграла по X\n",
    "    :param objects: objects_num объектов для оценки интеграла по x\n",
    "    :param noise: шумовая компонента размерности (samples_num, sample_size)\n",
    "    :param mean_noise: среднее шумовой компоненты\n",
    "\n",
    "    :return bias: смещение алгоритма regressor (число)\n",
    "    :return variance: разброс алгоритма regressor (число)\n",
    "    \"\"\"\n",
    "    mu = np.zeros((samples.shape[0], objects.shape[0]))\n",
    "    y = dependence_fun(samples) + noise\n",
    "    E_X_mu = np.zeros(objects.shape[0])\n",
    "    for i in range(samples.shape[0]):\n",
    "        x = samples[i]\n",
    "        regressor.fit(x[:, np.newaxis], y[i])\n",
    "        score = regressor.predict(objects[:, np.newaxis])\n",
    "        mu[i] = score\n",
    "        E_X_mu += score\n",
    "    E_X_mu /= samples.shape[0]\n",
    "    E_yORx = mean_noise + dependence_fun(objects)\n",
    "    bias = ((E_X_mu - E_yORx)**2).mean()\n",
    "    variance = ((mu - E_X_mu)**2).mean()\n",
    "    return bias, variance"
   ]
  },
  {
   "cell_type": "markdown",
   "metadata": {},
   "source": [
    "__6. (0.4 балла)__ \n",
    "\n",
    "Пусть истинная зависимость данных задается функцией $5\\sin (10 x)$, а значения признаков и шум генерируются из одного и того же распределения. Будем пробовать 4 разных распределения и сравнивать 4 регрессионных алгоритма (см. таблицы ниже). Необходимо в каждую ячейку датафреймов bias и variance записать записать соответственно смещение и разброс, рассчитанные для алгоритма, задаваемого строкой таблицы, и генератора случайных чисел, задаваемого столбцом. Остальные параметры функции compute_bias_variance оставьте по умолчанию."
   ]
  },
  {
   "cell_type": "code",
   "execution_count": 16,
   "metadata": {
    "collapsed": true
   },
   "outputs": [],
   "source": [
    "import pandas as pd\n",
    "from sklearn.linear_model import LinearRegression\n",
    "from sklearn.ensemble import RandomForestRegressor, GradientBoostingRegressor\n",
    "from sklearn.tree import DecisionTreeClassifier"
   ]
  },
  {
   "cell_type": "code",
   "execution_count": 17,
   "metadata": {
    "collapsed": true
   },
   "outputs": [],
   "source": [
    "regressors = [LinearRegression(), \n",
    "              DecisionTreeRegressor(), \n",
    "              RandomForestRegressor(),\n",
    "              GradientBoostingRegressor()]\n",
    "generators = [lambda size: np.random.normal(0, 0.3, size=size), \n",
    "              lambda size: np.random.exponential(0.3, size=size), \n",
    "              lambda size: np.random.uniform(-1, 1, size=size),\n",
    "              lambda size: np.random.uniform(0, 1, size=size)]"
   ]
  },
  {
   "cell_type": "code",
   "execution_count": 39,
   "metadata": {
    "collapsed": true
   },
   "outputs": [],
   "source": [
    "df_bias = pd.DataFrame(columns=[\"normal(0, 0.3)\", \"exponential(0.3)\", \"uniform(-1, 1)\", \"uniform(0, 1)\"],\n",
    "                       index=[\"LinearRegression\", \"DecisionTree\", \"RandomForest\", \"GradientBoosting\"])\n",
    "df_variance = pd.DataFrame(columns=df_bias.columns, index=df_bias.index)"
   ]
  },
  {
   "cell_type": "code",
   "execution_count": 20,
   "metadata": {
    "scrolled": true
   },
   "outputs": [
    {
     "data": {
      "text/plain": [
       "<module 'hw3code' from '/Users/anoshin_alexey/Desktop/MachineLearning/Tasks/Task3/hw3code.py'>"
      ]
     },
     "execution_count": 20,
     "metadata": {},
     "output_type": "execute_result"
    }
   ],
   "source": [
    "from importlib import reload\n",
    "import hw3code\n",
    "\n",
    "reload(hw3code)"
   ]
  },
  {
   "cell_type": "code",
   "execution_count": 40,
   "metadata": {
    "collapsed": true
   },
   "outputs": [],
   "source": [
    "function = lambda x: 5*np.sin(10*x)\n",
    "i = 0\n",
    "for reg in regressors:\n",
    "    j = 0\n",
    "    for gen in generators:\n",
    "        bias, variance = compute_bias_variance(reg, function, x_generator=gen, noise_generator=gen)\n",
    "        df_bias.iloc[i, j] = bias\n",
    "        df_variance.iloc[i, j] = variance\n",
    "        j += 1\n",
    "    i +=1"
   ]
  },
  {
   "cell_type": "code",
   "execution_count": 22,
   "metadata": {},
   "outputs": [
    {
     "data": {
      "text/html": [
       "<div>\n",
       "<style>\n",
       "    .dataframe thead tr:only-child th {\n",
       "        text-align: right;\n",
       "    }\n",
       "\n",
       "    .dataframe thead th {\n",
       "        text-align: left;\n",
       "    }\n",
       "\n",
       "    .dataframe tbody tr th {\n",
       "        vertical-align: top;\n",
       "    }\n",
       "</style>\n",
       "<table border=\"1\" class=\"dataframe\">\n",
       "  <thead>\n",
       "    <tr style=\"text-align: right;\">\n",
       "      <th></th>\n",
       "      <th>normal(0, 0.3)</th>\n",
       "      <th>exponential(0.3)</th>\n",
       "      <th>uniform(-1, 1)</th>\n",
       "      <th>uniform(0, 1)</th>\n",
       "    </tr>\n",
       "  </thead>\n",
       "  <tbody>\n",
       "    <tr>\n",
       "      <th>LinearRegression</th>\n",
       "      <td>12.1609</td>\n",
       "      <td>7.12199</td>\n",
       "      <td>11.744</td>\n",
       "      <td>12.0557</td>\n",
       "    </tr>\n",
       "    <tr>\n",
       "      <th>DecisionTree</th>\n",
       "      <td>0.0766306</td>\n",
       "      <td>0.0825574</td>\n",
       "      <td>0.00155487</td>\n",
       "      <td>0.000388934</td>\n",
       "    </tr>\n",
       "    <tr>\n",
       "      <th>RandomForest</th>\n",
       "      <td>0.0846314</td>\n",
       "      <td>0.125646</td>\n",
       "      <td>0.00167372</td>\n",
       "      <td>0.000341246</td>\n",
       "    </tr>\n",
       "    <tr>\n",
       "      <th>GradientBoosting</th>\n",
       "      <td>0.0776251</td>\n",
       "      <td>0.0860017</td>\n",
       "      <td>0.0115844</td>\n",
       "      <td>0.000922377</td>\n",
       "    </tr>\n",
       "  </tbody>\n",
       "</table>\n",
       "</div>"
      ],
      "text/plain": [
       "                 normal(0, 0.3) exponential(0.3) uniform(-1, 1) uniform(0, 1)\n",
       "LinearRegression        12.1609          7.12199         11.744       12.0557\n",
       "DecisionTree          0.0766306        0.0825574     0.00155487   0.000388934\n",
       "RandomForest          0.0846314         0.125646     0.00167372   0.000341246\n",
       "GradientBoosting      0.0776251        0.0860017      0.0115844   0.000922377"
      ]
     },
     "execution_count": 22,
     "metadata": {},
     "output_type": "execute_result"
    }
   ],
   "source": [
    "df_bias"
   ]
  },
  {
   "cell_type": "code",
   "execution_count": 23,
   "metadata": {
    "scrolled": true
   },
   "outputs": [
    {
     "data": {
      "text/html": [
       "<div>\n",
       "<style>\n",
       "    .dataframe thead tr:only-child th {\n",
       "        text-align: right;\n",
       "    }\n",
       "\n",
       "    .dataframe thead th {\n",
       "        text-align: left;\n",
       "    }\n",
       "\n",
       "    .dataframe tbody tr th {\n",
       "        vertical-align: top;\n",
       "    }\n",
       "</style>\n",
       "<table border=\"1\" class=\"dataframe\">\n",
       "  <thead>\n",
       "    <tr style=\"text-align: right;\">\n",
       "      <th></th>\n",
       "      <th>normal(0, 0.3)</th>\n",
       "      <th>exponential(0.3)</th>\n",
       "      <th>uniform(-1, 1)</th>\n",
       "      <th>uniform(0, 1)</th>\n",
       "    </tr>\n",
       "  </thead>\n",
       "  <tbody>\n",
       "    <tr>\n",
       "      <th>LinearRegression</th>\n",
       "      <td>0.088641</td>\n",
       "      <td>0.0725084</td>\n",
       "      <td>0.0790963</td>\n",
       "      <td>0.0577688</td>\n",
       "    </tr>\n",
       "    <tr>\n",
       "      <th>DecisionTree</th>\n",
       "      <td>0.174574</td>\n",
       "      <td>0.228285</td>\n",
       "      <td>0.362733</td>\n",
       "      <td>0.0900954</td>\n",
       "    </tr>\n",
       "    <tr>\n",
       "      <th>RandomForest</th>\n",
       "      <td>0.102314</td>\n",
       "      <td>0.134275</td>\n",
       "      <td>0.197171</td>\n",
       "      <td>0.0490146</td>\n",
       "    </tr>\n",
       "    <tr>\n",
       "      <th>GradientBoosting</th>\n",
       "      <td>0.116974</td>\n",
       "      <td>0.160309</td>\n",
       "      <td>0.144254</td>\n",
       "      <td>0.0391881</td>\n",
       "    </tr>\n",
       "  </tbody>\n",
       "</table>\n",
       "</div>"
      ],
      "text/plain": [
       "                 normal(0, 0.3) exponential(0.3) uniform(-1, 1) uniform(0, 1)\n",
       "LinearRegression       0.088641        0.0725084      0.0790963     0.0577688\n",
       "DecisionTree           0.174574         0.228285       0.362733     0.0900954\n",
       "RandomForest           0.102314         0.134275       0.197171     0.0490146\n",
       "GradientBoosting       0.116974         0.160309       0.144254     0.0391881"
      ]
     },
     "execution_count": 23,
     "metadata": {},
     "output_type": "execute_result"
    }
   ],
   "source": [
    "df_variance"
   ]
  },
  {
   "cell_type": "code",
   "execution_count": 41,
   "metadata": {},
   "outputs": [
    {
     "data": {
      "text/html": [
       "<div>\n",
       "<style>\n",
       "    .dataframe thead tr:only-child th {\n",
       "        text-align: right;\n",
       "    }\n",
       "\n",
       "    .dataframe thead th {\n",
       "        text-align: left;\n",
       "    }\n",
       "\n",
       "    .dataframe tbody tr th {\n",
       "        vertical-align: top;\n",
       "    }\n",
       "</style>\n",
       "<table border=\"1\" class=\"dataframe\">\n",
       "  <thead>\n",
       "    <tr style=\"text-align: right;\">\n",
       "      <th></th>\n",
       "      <th>normal(0, 0.3)</th>\n",
       "      <th>exponential(0.3)</th>\n",
       "      <th>uniform(-1, 1)</th>\n",
       "      <th>uniform(0, 1)</th>\n",
       "      <th>a</th>\n",
       "      <th>b</th>\n",
       "      <th>c</th>\n",
       "      <th>d</th>\n",
       "    </tr>\n",
       "  </thead>\n",
       "  <tbody>\n",
       "    <tr>\n",
       "      <th>LinearRegression</th>\n",
       "      <td>0.088641</td>\n",
       "      <td>0.0725084</td>\n",
       "      <td>0.0790963</td>\n",
       "      <td>0.0577688</td>\n",
       "      <td>1.0</td>\n",
       "      <td>1.0</td>\n",
       "      <td>1.0</td>\n",
       "      <td>3.0</td>\n",
       "    </tr>\n",
       "    <tr>\n",
       "      <th>DecisionTree</th>\n",
       "      <td>0.174574</td>\n",
       "      <td>0.228285</td>\n",
       "      <td>0.362733</td>\n",
       "      <td>0.0900954</td>\n",
       "      <td>4.0</td>\n",
       "      <td>4.0</td>\n",
       "      <td>4.0</td>\n",
       "      <td>4.0</td>\n",
       "    </tr>\n",
       "    <tr>\n",
       "      <th>RandomForest</th>\n",
       "      <td>0.102314</td>\n",
       "      <td>0.134275</td>\n",
       "      <td>0.197171</td>\n",
       "      <td>0.0490146</td>\n",
       "      <td>2.0</td>\n",
       "      <td>2.0</td>\n",
       "      <td>3.0</td>\n",
       "      <td>2.0</td>\n",
       "    </tr>\n",
       "    <tr>\n",
       "      <th>GradientBoosting</th>\n",
       "      <td>0.116974</td>\n",
       "      <td>0.160309</td>\n",
       "      <td>0.144254</td>\n",
       "      <td>0.0391881</td>\n",
       "      <td>3.0</td>\n",
       "      <td>3.0</td>\n",
       "      <td>2.0</td>\n",
       "      <td>1.0</td>\n",
       "    </tr>\n",
       "  </tbody>\n",
       "</table>\n",
       "</div>"
      ],
      "text/plain": [
       "                 normal(0, 0.3) exponential(0.3) uniform(-1, 1) uniform(0, 1)  \\\n",
       "LinearRegression       0.088641        0.0725084      0.0790963     0.0577688   \n",
       "DecisionTree           0.174574         0.228285       0.362733     0.0900954   \n",
       "RandomForest           0.102314         0.134275       0.197171     0.0490146   \n",
       "GradientBoosting       0.116974         0.160309       0.144254     0.0391881   \n",
       "\n",
       "                    a    b    c    d  \n",
       "LinearRegression  1.0  1.0  1.0  3.0  \n",
       "DecisionTree      4.0  4.0  4.0  4.0  \n",
       "RandomForest      2.0  2.0  3.0  2.0  \n",
       "GradientBoosting  3.0  3.0  2.0  1.0  "
      ]
     },
     "execution_count": 41,
     "metadata": {},
     "output_type": "execute_result"
    }
   ],
   "source": [
    "df_variance['a'] = df_variance['normal(0, 0.3)'].rank() \n",
    "df_variance['b'] = df_variance['exponential(0.3)'].rank()\n",
    "df_variance['c'] = df_variance['uniform(-1, 1)'].rank()\n",
    "df_variance['d'] = df_variance['uniform(0, 1)'].rank()\n",
    "\n",
    "df_variance"
   ]
  },
  {
   "cell_type": "markdown",
   "metadata": {},
   "source": [
    "__7. (0.6 балла)__  \n",
    "\n",
    "Проанализируйте полученные таблицы. Ответьте на вопросы:\n",
    "* Отранжируйте алгоритмы в порядке увеличения разброса (если какие-то алгоримты в разных случаях ранжируются по-разному, поставьте их на одну ступень). Согласуется ли полученный результат с теоретическими рассуждениями из лекций (поясните, почему да или нет)?\n",
    "* Можно ли сказать, что смещение и разброс алгоритма определяются только самим алгоритмом и не зависят от вероятностной модели данных, к которым этот алгоритм применяется (поясните, почему да или нет)? \n",
    "* Для каких распределений смещение решающих деревьев велико (по сравнению с другими распределениями)? Как вы думаете, почему так происходит (какие особенности этих распределений приводят к большому смещению)?"
   ]
  },
  {
   "cell_type": "markdown",
   "metadata": {},
   "source": [
    "**Ответ:** 1) В целом данные результаты подтверждает теорию, описанную в лекциях: самый маленький разброс данных достигается на линейной регрессии, в то время как самый большой разброс всегда достигается на решающих деревьях\n",
    "\n",
    "2)Нет нельзя, поскольку анализируя полученные результаты можно увидеть их зависимость от заданной вероятностоной модели данных\n",
    "\n",
    "3) Для нормального и экспоненциального распределения. Так происходит потому, что выборка неограниченна каким-либо интервалом, в том числе присутствуют удаленные объекты, на которых ошибка увеличивается"
   ]
  },
  {
   "cell_type": "markdown",
   "metadata": {},
   "source": [
    "### II. Решающие деревья своими руками"
   ]
  },
  {
   "cell_type": "markdown",
   "metadata": {},
   "source": [
    "#### Задача 3.\n",
    "В этой части вам нужно реализовать свой класс для обучения решающего дерева в задаче бинарной классификации с возможностью обработки вещественных и категориальных признаков."
   ]
  },
  {
   "cell_type": "markdown",
   "metadata": {},
   "source": [
    "__9. (0.5 балла)__\n",
    "\n",
    "Реализуйте функцию find_best_split из модуля hw3code.py"
   ]
  },
  {
   "cell_type": "code",
   "execution_count": 24,
   "metadata": {
    "collapsed": true
   },
   "outputs": [],
   "source": [
    "def find_best_split(feature_vector, target_vector):\n",
    "    \"\"\"\n",
    "    Под критерием Джини здесь подразумевается следующая функция:\n",
    "    $$Q(R) = -\\frac {|R_l|}{|R|}H(R_l) -\\frac {|R_r|}{|R|}H(R_r)$$,\n",
    "    $R$ — множество объектов, $R_l$ и $R_r$ — объекты, попавшие в левое и правое поддерево,\n",
    "     $H(R) = 1-p_1^2-p_0^2$, $p_1$, $p_0$ — доля объектов класса 1 и 0 соответственно.\n",
    "\n",
    "    Указания:\n",
    "    * Пороги, приводящие к попаданию в одно из поддеревьев пустого множества объектов, не рассматриваются.\n",
    "    * В качестве порогов, нужно брать среднее двух сосдених (при сортировке) значений признака\n",
    "    * Поведение функции в случае константного признака может быть любым.\n",
    "    * При одинаковых приростах Джини нужно выбирать минимальный порог.\n",
    "    * За наличие в функции циклов балл будет снижен. Векторизуйте! :)\n",
    "\n",
    "    :param feature_vector: вещественнозначный вектор значений признака\n",
    "    :param target_vector: вектор классов объектов,  len(feature_vector) == len(target_vector)\n",
    "\n",
    "    :return thresholds: отсортированный по возрастанию вектор со всеми возможными порогами, по которым объекты можно\n",
    "     разделить на две различные подвыборки, или поддерева\n",
    "    :return ginis: вектор со значениями критерия Джини для каждого из порогов в thresholds len(ginis) == len(thresholds)\n",
    "    :return threshold_best: оптимальный порог (число)\n",
    "    :return gini_best: оптимальное значение критерия Джини (число)\n",
    "    \"\"\"\n",
    "    if np.all(feature_vector == feature_vector[0]):\n",
    "        return -np.inf, -np.inf, -np.inf, -np.inf\n",
    "    length = len(feature_vector)\n",
    "    thresholds = np.array([])\n",
    "    ginis = np.array([])\n",
    "#     sorted_idxs = np.argsort(feature_vector)\n",
    "#     sorted_vector = feature_vector[sorted_idxs]\n",
    "#     sorted_target = target_vector[sorted_idxs]\n",
    "    usorted_vector = np.unique(feature_vector)\n",
    "    i = np.arange(1, len(usorted_vector))\n",
    "    thresholds = 0.5*(usorted_vector[i] + usorted_vector[i-1])\n",
    "    left = np.less(feature_vector, thresholds.reshape(len(thresholds), 1))\n",
    "    right = np.greater(feature_vector, thresholds.reshape(len(thresholds), 1))\n",
    "#     right = np.logical_not(left)\n",
    "    length_left = np.sum(left, axis=1)\n",
    "    length_right = np.sum(right, axis=1)\n",
    "    p1 = np.sum(np.multiply(target_vector, left), axis=1)/length_left\n",
    "    p0 = 1 - p1\n",
    "    h_l = 1 - p0**2 - p1**2\n",
    "    p1 = np.sum(np.multiply(target_vector, right), axis=1)/length_right\n",
    "    p0 = 1 - p1\n",
    "    h_r = 1 - p0**2 - p1**2\n",
    "    ginis = np.array(- h_l * length_left / length - h_r * length_right / length)\n",
    "    index = np.argmax(ginis)\n",
    "    gini_best = ginis[index]\n",
    "    threshold_best = thresholds[index]\n",
    "    return thresholds, ginis, threshold_best, gini_best"
   ]
  },
  {
   "cell_type": "markdown",
   "metadata": {},
   "source": [
    "__10. (0.5 балла)__\n",
    "\n",
    "Загрузите таблицу [students.csv](https://drive.google.com/file/d/0B2zoFVYw1rN3a0d0Zm43TzQ4aUU/view?usp=sharing) (это немного преобразованный датасет [User Knowledge](https://archive.ics.uci.edu/ml/datasets/User+Knowledge+Modeling)). В ней признаки объекта записаны в первых пяти столбцах, а в последнем записана целевая переменная (класс: 0 или 1). Постройте на одном изображении пять кривых \"порог — значение критерия Джини\" для всех пяти признаков. Отдельно визуализируйте scatter-графики \"значение признака — класс\" для всех пяти признаков."
   ]
  },
  {
   "cell_type": "code",
   "execution_count": 25,
   "metadata": {},
   "outputs": [
    {
     "data": {
      "image/png": "[encoded data removed]",
      "text/plain": [
       "<matplotlib.figure.Figure at 0x113a63ac8>"
      ]
     },
     "metadata": {},
     "output_type": "display_data"
    },
    {
     "data": {
      "image/png": "[encoded data removed]",
      "text/plain": [
       "<matplotlib.figure.Figure at 0x113f035f8>"
      ]
     },
     "metadata": {},
     "output_type": "display_data"
    }
   ],
   "source": [
    "data = pd.read_csv('students.csv', index_col=False)\n",
    "target = data[' UNS'].values\n",
    "data = data.drop(' UNS', axis=1)\n",
    "ax = plt.axes()\n",
    "plt.title(\"порог — значение критерия Джини\")\n",
    "ax.set_xlabel(u\"Порог\")\n",
    "ax.set_ylabel(u\"Значение критерия Джини\")\n",
    "for col in data.columns:\n",
    "    thresholds, ginis, threshold_best, gini_best = find_best_split(data[col].values, target)\n",
    "    plt.plot(thresholds, ginis, label=col)\n",
    "    plt.scatter(threshold_best, gini_best, s=20, c='black')\n",
    "ax.grid()\n",
    "ax.legend() \n",
    "\n",
    "plt.figure(figsize=(25, 5))\n",
    "plt.title(\"Значение признака — класс\")\n",
    "i=1\n",
    "for col in data.columns:\n",
    "    plt.subplot(1, 5, i)\n",
    "    plt.scatter(data[col].values, target, s=30, edgecolor='k')\n",
    "    plt.title('Значение признака ' + col + ' — класс [0, 1]')\n",
    "#     plt.ylim([0,1])\n",
    "    i += 1"
   ]
  },
  {
   "cell_type": "markdown",
   "metadata": {},
   "source": [
    "__11. (0.5 балла)__\n",
    "\n",
    "Исходя из кривых значений критерия Джини, по какому признаку нужно производить деление выборки на два поддерева? Согласуется ли этот результат с визуальной оценкой scatter-графиков? Как бы охарактеризовали вид кривой для \"хороших\" признаков, по которым выборка делится почти идеально? Чем отличаются кривые для признаков, по которым деление практически невозможно?"
   ]
  },
  {
   "cell_type": "markdown",
   "metadata": {},
   "source": [
    "**Ответ:** Исходя из кривых значения критерия Джини, деление выборки необходимо производить по признаку PEG, что и подтверждает визуальная оценка scatter-графиков: на графике видно, что почти все объекты со значением признака PEG < 0.4 принадлежат классу 0, т.е. существует порог, позволяющий нам достаточно качественно и информативно разделить выборку. В случае остальных признаков пик значения критерия Джини не ярко выраженнный, из чего следует, что невозможно найти такой же хороший порог, как у признака PEG. Визуальная оценка scatter-графиков этих признаков подтверждает это суждение: на графиках видно, что независимо от значения признаков большое число объектов принадлежит к обоим классам (нет четкой границы). Вид кривой значения критерия Джини для признаков, по которым выборка делится почти идеально, можно охарактеризовать так: кривая должна иметь ярко выраженный экстремум(в нашей реализации максимум), как в случае признака PEG."
   ]
  },
  {
   "cell_type": "markdown",
   "metadata": {},
   "source": [
    "__12. (1.5 балла).__\n",
    "\n",
    "Разберитесь с уже написанным кодом в классе DecisionTree модуля hw3code.py. Найдите ошибки в реализации метода \\_fit_node. Напишите функцию \\_predict_node.\n",
    "\n",
    " Построение дерева осуществляется согласно базовому жадному алгоритму, предложенному в [лекции](https://github.com/esokolov/ml-course-hse/blob/master/2016-fall/lecture-notes/lecture07-trees.pdf) в разделе «Построение дерева». Выбор лучшего разбиения необходимо производить по критерию Джини. Критерий останова: все объекты в листе относятся к одному классу или ни по одному признаку нельзя разбить выборку. Ответ в листе: наиболее часто встречающийся класс в листе. Для категориальных признаков выполняется преобразование, описанное в лекции в разделе «Учет категориальных признаков»."
   ]
  },
  {
   "cell_type": "code",
   "execution_count": 137,
   "metadata": {
    "collapsed": true
   },
   "outputs": [],
   "source": [
    "import numpy as np\n",
    "from collections import Counter\n",
    "\n",
    "class DecisionTree():\n",
    "    def __init__(self, feature_types, max_depth=None, min_samples_split=None, min_samples_leaf=None):\n",
    "        if np.any(list(map(lambda x: x != \"real\" and x != \"categorical\", feature_types))):\n",
    "            raise ValueError(\"There is unknown feature type\")\n",
    "\n",
    "        self._tree = {}\n",
    "        self._feature_types = feature_types\n",
    "        self._max_depth = max_depth\n",
    "        self._min_samples_split = min_samples_split\n",
    "        self._min_samples_leaf = min_samples_leaf\n",
    "\n",
    "    def _fit_node(self, sub_X, sub_y, node):\n",
    "#         if len(sub_y) == 0:\n",
    "#             return\n",
    "        if np.all(sub_y == sub_y[0]):\n",
    "            node[\"type\"] = \"terminal\"\n",
    "            node[\"class\"] = sub_y[0]\n",
    "            return\n",
    "        \n",
    "        if sub_X.shape[0] < 2:\n",
    "            node[\"type\"] = \"terminal\"\n",
    "            node[\"class\"] = Counter(sub_y).most_common(1)[0][0]\n",
    "            return\n",
    "\n",
    "        feature_best, threshold_best, gini_best, split = None, None, None, None\n",
    "        for feature in range(0, sub_X.shape[1]):\n",
    "            feature_type = self._feature_types[feature]\n",
    "            categories_map = {}\n",
    "\n",
    "            if feature_type == \"real\":\n",
    "                feature_vector = sub_X[:, feature]\n",
    "            elif feature_type == \"categorical\":\n",
    "                counts = Counter(sub_X[:, feature])\n",
    "                clicks = Counter(sub_X[sub_y == 1, feature])\n",
    "                ratio = {}\n",
    "                for key, current_count in counts.items():\n",
    "                    if key in clicks:\n",
    "                        current_click = clicks[key]\n",
    "                    else:\n",
    "                        current_click = 0\n",
    "                    ratio[key] = current_click / current_count\n",
    "                sorted_categories = list(map(lambda x: x[0], sorted(ratio.items(), key=lambda x: x[1])))\n",
    "                categories_map = dict(zip(sorted_categories, list(range(len(sorted_categories)))))\n",
    "                feature_vector = np.array(list(map(lambda x: categories_map[x], sub_X[:, feature])))\n",
    "            else:\n",
    "                raise ValueError\n",
    "                \n",
    "            if np.all(feature_vector == feature_vector[0]):\n",
    "                continue\n",
    "                \n",
    "            _, _, threshold, gini = find_best_split(feature_vector, sub_y)\n",
    "            if gini_best is None or gini > gini_best:\n",
    "                feature_best = feature\n",
    "                gini_best = gini\n",
    "                split = feature_vector < threshold\n",
    "\n",
    "                if feature_type == \"real\":\n",
    "                    threshold_best = threshold\n",
    "                elif feature_type == \"categorical\":\n",
    "                    threshold_best = list(map(lambda x: x[0],\n",
    "                                              filter(lambda x: x[1] < threshold, categories_map.items())))\n",
    "                else:\n",
    "                    raise ValueError\n",
    "\n",
    "        if feature_best is None:\n",
    "            node[\"type\"] = \"terminal\"\n",
    "            node[\"class\"] = Counter(sub_y).most_common(1)[0][0]\n",
    "            return\n",
    "\n",
    "        node[\"type\"] = \"nonterminal\"\n",
    "\n",
    "        node[\"feature_split\"] = feature_best\n",
    "        if self._feature_types[feature_best] == \"real\":\n",
    "            node[\"threshold\"] = threshold_best\n",
    "        elif self._feature_types[feature_best] == \"categorical\":\n",
    "            node[\"categories_split\"] = threshold_best\n",
    "        else:\n",
    "            raise ValueError\n",
    "        node[\"left_child\"], node[\"right_child\"] = {}, {}\n",
    "        self._fit_node(sub_X[split], sub_y[split], node[\"left_child\"])\n",
    "        self._fit_node(sub_X[np.logical_not(split)], sub_y[np.logical_not(split)], node[\"right_child\"])\n",
    "\n",
    "    def _predict_node(self, x, node):\n",
    "        go_to_left = False\n",
    "        if node[\"type\"] == \"terminal\":\n",
    "            return node[\"class\"]\n",
    "        feature_best = node[\"feature_split\"]\n",
    "        if self._feature_types[feature_best] == \"real\":\n",
    "            thr = node[\"threshold\"]\n",
    "            go_to_left = x[feature_best] < thr\n",
    "#             print(2)\n",
    "        elif self._feature_types[feature_best] == \"categorical\":\n",
    "            thr = node[\"categories_split\"]\n",
    "            go_to_left = x[feature_best] in thr\n",
    "        else:\n",
    "            raise ValueError\n",
    "#         print(split)\n",
    "#         print(x[feature_best] , thr)\n",
    "        if (go_to_left):\n",
    "            #             print(1)\n",
    "            return self._predict_node(x, node[\"left_child\"])\n",
    "        else:\n",
    "            #             print(2)\n",
    "            return self._predict_node(x, node[\"right_child\"])\n",
    "        \n",
    "    def fit(self, X, y):\n",
    "        self._fit_node(X, y, self._tree)\n",
    "\n",
    "    def predict(self, X):\n",
    "        predicted = []\n",
    "        for x in X:\n",
    "            predicted.append(self._predict_node(x, self._tree))\n",
    "        return np.array(predicted)\n",
    "    \n",
    "    def get_depth(self):\n",
    "        return len(self._tree)\n",
    "\n",
    "    def get_params(self, deep = False):\n",
    "        return {\"feature_types\": self._feature_types}"
   ]
  },
  {
   "cell_type": "markdown",
   "metadata": {},
   "source": [
    "__13. (0.5 балла)__\n",
    "\n",
    "Протестируйте свое решающее дерево на датасете [mushrooms](https://archive.ics.uci.edu/ml/datasets/Mushroom). Вам нужно скачать таблицу agaricus-lepiota.data (из [Data Folder](https://archive.ics.uci.edu/ml/machine-learning-databases/mushroom/)), прочитать ее с помощью pandas, применить к каждому столбцу LabelEncoder (из sklearn), чтобы преобразовать строковые имена категорий в натуральные числа. Первый столбец — это целевая переменная (e — edible, p — poisonous) Мы будем измерять качество с помощью accuracy, так что нам не очень важно, что будет классом 1, а что — классом 0. Обучите решающее дерево на половине случайно выбранных объектов (признаки в датасете категориальные) и сделайте предсказания для оставшейся половины. Вычислите accuracy.\n",
    "\n",
    "У вас должно получиться значение accuracy, равное единице (или очень близкое к единице), и не очень глубокое дерево."
   ]
  },
  {
   "cell_type": "code",
   "execution_count": 128,
   "metadata": {},
   "outputs": [
    {
     "name": "stdout",
     "output_type": "stream",
     "text": [
      "accuracy: 1.0\n",
      "tree depth: 5\n"
     ]
    }
   ],
   "source": [
    "import pandas as pd\n",
    "from sklearn.preprocessing import LabelEncoder\n",
    "from sklearn.model_selection import train_test_split\n",
    "from sklearn.metrics import accuracy_score\n",
    "\n",
    "data = pd.read_csv('agaricus-lepiota.data').as_matrix()\n",
    "data_new = np.zeros(data.shape)\n",
    "\n",
    "labenc = LabelEncoder()\n",
    "for i in range(data.shape[1]):\n",
    "    data_new[:, i] = labenc.fit_transform(data[:, i])\n",
    "\n",
    "target = data_new[:, 0]\n",
    "samples = data_new[:, 1:]\n",
    "    \n",
    "X_train, X_test, y_train, y_test = train_test_split(samples, target, test_size=0.5, random_state=42)\n",
    "dt = DecisionTree([\"categorical\"]*samples.shape[1])\n",
    "dt.fit(X_train, y_train)\n",
    "y_pred = dt.predict(X_test)\n",
    "print('accuracy:', accuracy_score(y_pred, y_test))\n",
    "print('tree depth:', dt.get_depth())"
   ]
  },
  {
   "cell_type": "markdown",
   "metadata": {},
   "source": [
    "__15. (1 балл)__\n",
    "\n",
    "Загрузите следующие наборы данных (напомним, что pandas умеет загружать файлы по url, в нашем случае это файл \\*.data), предварительно ознакомившись с описанием признаков и целевой переменной в каждом из них (она записаны в Data Folder, в файле *.names): \n",
    "* [mushrooms](https://archive.ics.uci.edu/ml/datasets/Mushroom) (загрузили в предыдущем пункте, классы записаны в нулевом столбце),\n",
    "* [tic-tac-toe](https://archive.ics.uci.edu/ml/datasets/Tic-Tac-Toe+Endgame) (классы записаны в последнем столбце)\n",
    "* [cars](https://archive.ics.uci.edu/ml/datasets/Car+Evaluation) (классы записаны в последнем столбце, считаем что unacc, acc — это класс 0, good, vgood — класс 1)\n",
    "* [nursery](https://archive.ics.uci.edu/ml/datasets/Nursery) (классы записаны в последнем столбце, считаем, что not_recom и recommend — класс 0, very_recom, priority, spec_prior — класс 1).\n",
    "\n",
    "Закодируйте категориальные признаки, использовав LabelEncoder. С помощью cross_val_score (cv=10) оцените accuracy на каждом из этих наборов данных следующих алгоритмов:\n",
    "* DecisionTree, считающий все признаки вещественными\n",
    "* DecisionTree, считающий все признаки категориальными\n",
    "* DecisionTree, считающий все признаки вещественными + one-hot-encoding всех признаков\n",
    "* DecisionTreeClassifier из sklearn. Запишите результат в pd.DataFrame (по строкам — наборы данных, по столбцам — алгоритмы).\n",
    "\n",
    "Рекомендации:\n",
    "* Чтобы cross_val_score вычисляла точность, нужно передать scoring=make_scorer(accuracy_score), обе фукнции из sklearn.metrics.\n",
    "* Если вам позволяет память (а она скорее всего позволяет), указывайте параметр sparse=False в OneHotEncoder (если вы, конечно, используете его). Иначе вам придется добиваться того, чтобы ваша реализация дерева умела работать с разреженными матрицами (что тоже, в целом, не очень сложно)."
   ]
  },
  {
   "cell_type": "code",
   "execution_count": 190,
   "metadata": {
    "collapsed": true
   },
   "outputs": [],
   "source": [
    "from sklearn.preprocessing import OneHotEncoder\n",
    "\n",
    "one_hot_encoder = OneHotEncoder(sparse=False)\n",
    "\n",
    "mushrooms = data_new[:, 1:]\n",
    "mushrooms_target = data_new[:, 0]\n",
    "enc_mushrooms = one_hot_encoder.fit_transform(mushrooms)\n",
    "\n",
    "data = pd.read_csv('https://archive.ics.uci.edu/ml/machine-learning-databases/tic-tac-toe/tic-tac-toe.data',\n",
    "                         names = np.arange(10)).as_matrix()\n",
    "labenc = LabelEncoder()\n",
    "tic_tac_toe = np.zeros(data.shape)\n",
    "for i in range(0, data.shape[1]):\n",
    "    tic_tac_toe[:, i] = labenc.fit_transform(data[:, i])\n",
    "tic_tac_toe_target = tic_tac_toe[:, -1]\n",
    "tic_tac_toe = tic_tac_toe[:, :-1]\n",
    "enc_tic_tac_toe = one_hot_encoder.fit_transform(tic_tac_toe)\n",
    "\n",
    "data = pd.read_csv('https://archive.ics.uci.edu/ml/machine-learning-databases/car/car.data',\n",
    "                         names = np.arange(7)).as_matrix()\n",
    "data[(data == 'acc') + (data == 'unacc')] = 0\n",
    "data[(data == 'good') + (data == 'vgood')] = 1\n",
    "labenc = LabelEncoder()\n",
    "cars = np.zeros(data.shape)\n",
    "for i in range(0, data.shape[1]):\n",
    "    cars[:, i] = labenc.fit_transform(data[:, i])\n",
    "cars_target = cars[:, -1]\n",
    "cars = cars[:, :-1]\n",
    "enc_cars = one_hot_encoder.fit_transform(cars)\n",
    "\n",
    "data = pd.read_csv('https://archive.ics.uci.edu/ml/machine-learning-databases/nursery/nursery.data',\n",
    "                         names = np.arange(9)).as_matrix()\n",
    "data[(data[:, -1] == 'not_recom') + (data[:, -1] == 'recommend')] = 0\n",
    "data[(data[:, -1] == 'very_recom') + (data[:, -1] == 'priority') \n",
    "     + (data[:, -1] == 'spec_prior')] = 1\n",
    "labenc = LabelEncoder()\n",
    "nursery = np.zeros(data.shape)\n",
    "for i in range(0, data.shape[1]):\n",
    "    nursery[:, i] = labenc.fit_transform(data[:, i])\n",
    "nursery_target = nursery[:, -1]\n",
    "nursery = nursery[:, :-1]\n",
    "enc_nursery = one_hot_encoder.fit_transform(nursery)"
   ]
  },
  {
   "cell_type": "code",
   "execution_count": 191,
   "metadata": {
    "collapsed": true
   },
   "outputs": [],
   "source": [
    "results = pd.DataFrame(index=[\"mushrooms\", \"tic-tac-toe\", \"cars\", \"nursery\"], \n",
    "                       columns=[\"all real\", \"all categorical\", \"all real + OHE\", \"DesicionTreeClassifier\"])"
   ]
  },
  {
   "cell_type": "code",
   "execution_count": 192,
   "metadata": {
    "collapsed": true
   },
   "outputs": [],
   "source": [
    "#mushrooms\n",
    "from sklearn.tree import DecisionTreeClassifier\n",
    "from sklearn.model_selection import cross_val_score, KFold\n",
    "from sklearn.metrics import make_scorer, accuracy_score\n",
    "\n",
    "cv = StratifiedKFold(n_splits=10, shuffle=True, random_state=42)\n",
    "# cv = KFold(n=mushrooms.shape[0], n_folds=10, shuffle=True, random_state=42)\n",
    "# cv = KFold(n_splits=10, shuffle=True, random_state=42)\n",
    "\n",
    "#DecisionTree, считающий все признаки вещественными\n",
    "dt = DecisionTree([\"real\"]*mushrooms.shape[1])\n",
    "mushrooms_dt_real = cross_val_score(dt,  X=mushrooms, y=mushrooms_target,\n",
    "                                    scoring=make_scorer(accuracy_score), cv=cv)\n",
    "results.iloc[0,0] = mushrooms_dt_real.mean()\n",
    "\n",
    "#DecisionTree, считающий все признаки категориальными\n",
    "dt = DecisionTree([\"categorical\"]*mushrooms.shape[1])\n",
    "mushrooms_dt_categ = cross_val_score(dt,  X=mushrooms, y=mushrooms_target,\n",
    "                                    scoring=make_scorer(accuracy_score), cv=cv)\n",
    "results.iloc[0,1] = mushrooms_dt_categ.mean()\n",
    "\n",
    "#DecisionTree, считающий все признаки вещественными + one-hot-encoding всех признаков\n",
    "dt = DecisionTree([\"real\"]*enc_mushrooms.shape[1])\n",
    "mushrooms_dt_real_enc = cross_val_score(dt,  X=enc_mushrooms, y=mushrooms_target,\n",
    "                                    scoring=make_scorer(accuracy_score), cv=cv)\n",
    "results.iloc[0,2] = mushrooms_dt_real_enc.mean()\n",
    "\n",
    "#DecisionTreeClassifier из sklearn\n",
    "dt = DecisionTreeClassifier()\n",
    "mushrooms_dt_sklearn = cross_val_score(dt,  X=mushrooms, y=mushrooms_target,\n",
    "                                    scoring=make_scorer(accuracy_score), cv=cv)\n",
    "results.iloc[0,3] = mushrooms_dt_sklearn.mean()"
   ]
  },
  {
   "cell_type": "code",
   "execution_count": 193,
   "metadata": {
    "collapsed": true
   },
   "outputs": [],
   "source": [
    "#tic-tac-toe\n",
    "\n",
    "cv = StratifiedKFold(n_splits=10, shuffle=True, random_state=42)\n",
    "# cv = KFold(n=mushrooms.shape[0], n_folds=10, shuffle=True, random_state=42)\n",
    "# cv = KFold(n_splits=10, shuffle=True, random_state=42)\n",
    "\n",
    "#DecisionTree, считающий все признаки вещественными\n",
    "dt = DecisionTree([\"real\"]*tic_tac_toe.shape[1])\n",
    "tic_tac_toe_dt_real = cross_val_score(dt,  X=tic_tac_toe, y=tic_tac_toe_target,\n",
    "                                    scoring=make_scorer(accuracy_score), cv=cv)\n",
    "results.iloc[1,0] = tic_tac_toe_dt_real.mean()\n",
    "\n",
    "#DecisionTree, считающий все признаки категориальными\n",
    "dt = DecisionTree([\"categorical\"]*tic_tac_toe.shape[1])\n",
    "tic_tac_toe_dt_categ = cross_val_score(dt,  X=tic_tac_toe, y=tic_tac_toe_target,\n",
    "                                    scoring=make_scorer(accuracy_score), cv=cv)\n",
    "results.iloc[1,1] = tic_tac_toe_dt_categ.mean()\n",
    "\n",
    "#DecisionTree, считающий все признаки вещественными + one-hot-encoding всех признаков\n",
    "dt = DecisionTree([\"real\"]*enc_tic_tac_toe.shape[1])\n",
    "tic_tac_toe_dt_real_enc = cross_val_score(dt,  X=enc_tic_tac_toe, y=tic_tac_toe_target,\n",
    "                                    scoring=make_scorer(accuracy_score), cv=cv)\n",
    "results.iloc[1,2] = tic_tac_toe_dt_real_enc.mean()\n",
    "\n",
    "#DecisionTreeClassifier из sklearn\n",
    "dt = DecisionTreeClassifier()\n",
    "tic_tac_toe_dt_sklearn = cross_val_score(dt,  X=tic_tac_toe, y=tic_tac_toe_target,\n",
    "                                    scoring=make_scorer(accuracy_score), cv=cv)\n",
    "results.iloc[1,3] = tic_tac_toe_dt_sklearn.mean()"
   ]
  },
  {
   "cell_type": "code",
   "execution_count": 194,
   "metadata": {
    "collapsed": true
   },
   "outputs": [],
   "source": [
    "#cars\n",
    "\n",
    "cv = StratifiedKFold(n_splits=10, shuffle=True, random_state=42)\n",
    "# cv = KFold(n=mushrooms.shape[0], n_folds=10, shuffle=True, random_state=42)\n",
    "# cv = KFold(n_splits=10, shuffle=True, random_state=42)\n",
    "\n",
    "#DecisionTree, считающий все признаки вещественными\n",
    "dt = DecisionTree([\"real\"]*cars.shape[1])\n",
    "cars_dt_real = cross_val_score(dt,  X=cars, y=cars_target,\n",
    "                                    scoring=make_scorer(accuracy_score), cv=cv)\n",
    "results.iloc[2,0] = cars_dt_real.mean()\n",
    "\n",
    "#DecisionTree, считающий все признаки категориальными\n",
    "dt = DecisionTree([\"categorical\"]*cars.shape[1])\n",
    "cars_dt_categ = cross_val_score(dt,  X=cars, y=cars_target,\n",
    "                                    scoring=make_scorer(accuracy_score), cv=cv)\n",
    "results.iloc[2,1] = cars_dt_categ.mean()\n",
    "\n",
    "#DecisionTree, считающий все признаки вещественными + one-hot-encoding всех признаков\n",
    "dt = DecisionTree([\"real\"]*enc_cars.shape[1])\n",
    "cars_dt_real_enc = cross_val_score(dt,  X=enc_cars, y=cars_target,\n",
    "                                    scoring=make_scorer(accuracy_score), cv=cv)\n",
    "results.iloc[2,2] = cars_dt_real_enc.mean()\n",
    "\n",
    "#DecisionTreeClassifier из sklearn\n",
    "dt = DecisionTreeClassifier()\n",
    "cars_dt_sklearn = cross_val_score(dt,  X=cars, y=cars_target,\n",
    "                                    scoring=make_scorer(accuracy_score), cv=cv)\n",
    "results.iloc[2,3] = cars_dt_sklearn.mean()"
   ]
  },
  {
   "cell_type": "code",
   "execution_count": 195,
   "metadata": {
    "collapsed": true
   },
   "outputs": [],
   "source": [
    "#nursery\n",
    "\n",
    "cv = StratifiedKFold(n_splits=10, shuffle=True, random_state=42)\n",
    "# cv = KFold(n=mushrooms.shape[0], n_folds=10, shuffle=True, random_state=42)\n",
    "# cv = KFold(n_splits=10, shuffle=True, random_state=42)\n",
    "\n",
    "#DecisionTree, считающий все признаки вещественными\n",
    "dt = DecisionTree([\"real\"]*nursery.shape[1])\n",
    "nursery_dt_real = cross_val_score(dt,  X=nursery, y=nursery_target,\n",
    "                                    scoring=make_scorer(accuracy_score), cv=cv)\n",
    "results.iloc[3,0] = nursery_dt_real.mean()\n",
    "\n",
    "#DecisionTree, считающий все признаки категориальными\n",
    "dt = DecisionTree([\"categorical\"]*nursery.shape[1])\n",
    "nursery_dt_categ = cross_val_score(dt,  X=nursery, y=nursery_target,\n",
    "                                    scoring=make_scorer(accuracy_score), cv=cv)\n",
    "results.iloc[3,1] = nursery_dt_categ.mean()\n",
    "\n",
    "#DecisionTree, считающий все признаки вещественными + one-hot-encoding всех признаков\n",
    "dt = DecisionTree([\"real\"]*enc_nursery.shape[1])\n",
    "nursery_dt_real_enc = cross_val_score(dt,  X=enc_nursery, y=nursery_target,\n",
    "                                    scoring=make_scorer(accuracy_score), cv=cv)\n",
    "results.iloc[3,2] = nursery_dt_real_enc.mean()\n",
    "\n",
    "#DecisionTreeClassifier из sklearn\n",
    "dt = DecisionTreeClassifier()\n",
    "nursery_dt_sklearn = cross_val_score(dt,  X=nursery, y=nursery_target,\n",
    "                                    scoring=make_scorer(accuracy_score), cv=cv)\n",
    "results.iloc[3,3] = nursery_dt_sklearn.mean()"
   ]
  },
  {
   "cell_type": "code",
   "execution_count": 196,
   "metadata": {},
   "outputs": [
    {
     "data": {
      "text/html": [
       "<div>\n",
       "<style>\n",
       "    .dataframe thead tr:only-child th {\n",
       "        text-align: right;\n",
       "    }\n",
       "\n",
       "    .dataframe thead th {\n",
       "        text-align: left;\n",
       "    }\n",
       "\n",
       "    .dataframe tbody tr th {\n",
       "        vertical-align: top;\n",
       "    }\n",
       "</style>\n",
       "<table border=\"1\" class=\"dataframe\">\n",
       "  <thead>\n",
       "    <tr style=\"text-align: right;\">\n",
       "      <th></th>\n",
       "      <th>all real</th>\n",
       "      <th>all categorical</th>\n",
       "      <th>all real + OHE</th>\n",
       "      <th>DesicionTreeClassifier</th>\n",
       "    </tr>\n",
       "  </thead>\n",
       "  <tbody>\n",
       "    <tr>\n",
       "      <th>mushrooms</th>\n",
       "      <td>1</td>\n",
       "      <td>1</td>\n",
       "      <td>1</td>\n",
       "      <td>1</td>\n",
       "    </tr>\n",
       "    <tr>\n",
       "      <th>tic-tac-toe</th>\n",
       "      <td>0.868458</td>\n",
       "      <td>0.951917</td>\n",
       "      <td>0.951917</td>\n",
       "      <td>0.877899</td>\n",
       "    </tr>\n",
       "    <tr>\n",
       "      <th>cars</th>\n",
       "      <td>0.99305</td>\n",
       "      <td>0.992475</td>\n",
       "      <td>0.988974</td>\n",
       "      <td>0.991312</td>\n",
       "    </tr>\n",
       "    <tr>\n",
       "      <th>nursery</th>\n",
       "      <td>1</td>\n",
       "      <td>1</td>\n",
       "      <td>1</td>\n",
       "      <td>1</td>\n",
       "    </tr>\n",
       "  </tbody>\n",
       "</table>\n",
       "</div>"
      ],
      "text/plain": [
       "             all real all categorical all real + OHE DesicionTreeClassifier\n",
       "mushrooms           1               1              1                      1\n",
       "tic-tac-toe  0.868458        0.951917       0.951917               0.877899\n",
       "cars          0.99305        0.992475       0.988974               0.991312\n",
       "nursery             1               1              1                      1"
      ]
     },
     "execution_count": 196,
     "metadata": {},
     "output_type": "execute_result"
    }
   ],
   "source": [
    "results"
   ]
  },
  {
   "cell_type": "markdown",
   "metadata": {},
   "source": [
    "__16. (0.5 балла)__\n",
    "\n",
    "Проанализируйте результаты эксперимента. \n",
    "Одинаково ли для разных наборов данных ранжируются алгоритмы? \n",
    "Порассуждайте, почему так происходит. \n",
    "\n",
    "Обратите внимание на значение признаков в разных наборах данных. \n",
    "Присутствует ли в результатах какая-то компонента случайности? \n",
    "Можно ли повлиять на нее и улушить работу алгоритмов?"
   ]
  },
  {
   "cell_type": "markdown",
   "metadata": {},
   "source": [
    "**Ответ:** Можно сделать вывод, что результаты ранжируются почти одинаково, однако можно увидеть отличия на различных наборах данных. Результаты для выборок mushrooms и nursery показали наилучший результат. В используемых данных все признаки считались категориальными(следует из файла *.names). Самый плохой результат показало дерево с вещественными признаками на tic-tac-toe. При различной кодировке категориальных признаков с помощью LabelEncoder можно повлиять на работу алгоритмов, использующие вещественные признаки вместо категориальных."
   ]
  },
  {
   "cell_type": "markdown",
   "metadata": {
    "collapsed": true
   },
   "source": [
    "### III. Композиции деревьев\n",
    "#### Задача 4. Сравнение композиционных методов над решающими деревьями\n",
    "__17. (0.5 балла)__\n",
    "\n",
    "Загрузите датасет из соревнования [BNP Paribas Cardif Claims Management](https://www.kaggle.com/c/bnp-paribas-cardif-claims-management/leaderboard). Возьмите из него первые 10к объектов, оставьте только вещественные признаки, а пропуски замените нулями. Разбейте выборку на обучение и контроль в соотношении 7:3.\n",
    "\n",
    "1. С помощью cross_val_score с cv=3 оцените качество (accuracy) следующих классификаторов на обучающей выборке:\n",
    "    * DecisionTreeClassifier\n",
    "    * BaggingClassifier со 100 деревьями\n",
    "    * RandomForestClassifier со 100 деревьями\n",
    "    \n",
    "Значение получается шумное, но в целом у вас должно получиться, что качество возрастает с каждым следующим алгоритмом (если это не так, то посмотрите как ведут себя алгоритмы с разными сидами в кроссвалидации и самих алгоритмах). Этот пример демонстрирует, что RandomForest — это более сложный алгоритм, чем бэггинг. "
   ]
  },
  {
   "cell_type": "code",
   "execution_count": null,
   "metadata": {},
   "outputs": [],
   "source": [
    "import pandas as pd\n",
    "\n",
    "data = pd.read_csv('train.csv', index_col=False, nrows=10000)\n",
    "print(len(data.index))\n",
    "target = data[\"target\"]\n",
    "data = data.drop(\"target\", axis=1)\n",
    "data =  data.select_dtypes(include=['float64'])\n",
    "data = data.fillna(0)"
   ]
  },
  {
   "cell_type": "code",
   "execution_count": 15,
   "metadata": {
    "collapsed": true
   },
   "outputs": [],
   "source": [
    "from sklearn.tree import DecisionTreeClassifier\n",
    "from sklearn.model_selection import cross_val_score, KFold\n",
    "from sklearn.ensemble import BaggingClassifier, RandomForestClassifier\n",
    "from sklearn.metrics import make_scorer, accuracy_score\n",
    "from sklearn.model_selection import train_test_split\n",
    "\n",
    "X_train, X_test, y_train, y_test = train_test_split(data, target, test_size=0.3, random_state=42)"
   ]
  },
  {
   "cell_type": "code",
   "execution_count": 25,
   "metadata": {},
   "outputs": [
    {
     "name": "stdout",
     "output_type": "stream",
     "text": [
      "Desicion Tree score:  0.660857537122\n",
      "Bagging Clasifier score:  0.753571540946\n",
      "Random Forest Classifier score:  0.755714214529\n"
     ]
    }
   ],
   "source": [
    "cv = KFold(n_splits=3, shuffle=True, random_state=42)\n",
    "dt = DecisionTreeClassifier()\n",
    "DT_score = cross_val_score(dt,  X=X_train, y=y_train,\n",
    "                                    scoring=make_scorer(accuracy_score), cv=cv).mean()\n",
    "dt = BaggingClassifier(n_estimators=100)\n",
    "BC_score = cross_val_score(dt,  X=X_train, y=y_train,\n",
    "                                    scoring=make_scorer(accuracy_score), cv=cv).mean()\n",
    "dt = RandomForestClassifier(n_estimators=100)\n",
    "RFC_score = cross_val_score(dt,  X=X_train, y=y_train,\n",
    "                                    scoring=make_scorer(accuracy_score), cv=cv).mean()\n",
    "print(\"Desicion Tree score: \", DT_score)\n",
    "print(\"Bagging Clasifier score: \", BC_score)\n",
    "print(\"Random Forest Classifier score: \", RFC_score)"
   ]
  },
  {
   "cell_type": "markdown",
   "metadata": {},
   "source": [
    "#### Задача 5. Число деревьев в случайном лесе\n",
    "В этой задаче мы рассмотрим, переобучаются ли композиционные алгоритмы с увеличением числа деревьев.\n",
    "\n",
    "__18. (0.5 балла)__\n",
    "\n",
    "Переберите значения от 20 до 1000-5000 деревьев с шагом 20, посчитайте accuracy на тестовой выборке для каждого числа деревьев и постройте график зависимости качества от числа деревьев.\n",
    "\n",
    "Рекомендация.\n",
    "\n",
    "Если каждый раз обучать RandomForest с нуля, придётся обучить в общей сумме $20 + 200 + \\ldots + 5000$ деревьев.\n",
    "Однако, как мы знаем, деревья в случайных лесах строятся независимо и параллельно, поэтому можно обучить всего 5000 деревьев.\n",
    "\n",
    "Для этого в при создании объекта класса RandomForestClassifier нужно указать в том числе warm_start=True. Затем обучить алгоритм с помощью метода fit, использовать метод predict для классификации. После этого с помощью метода set_params изменить параметр n_estimators. Если к полученному объекту применить метод fit, внутри него будет обучаться только недостающее число деревьев.\n",
    "\n",
    "Переобучается ли случайный лес с увеличением числа деревьев?"
   ]
  },
  {
   "cell_type": "code",
   "execution_count": null,
   "metadata": {
    "collapsed": true
   },
   "outputs": [],
   "source": [
    "### ╰( ͡° ͜ʖ ͡° )つ──☆*:・ﾟ\n"
   ]
  },
  {
   "cell_type": "code",
   "execution_count": null,
   "metadata": {
    "collapsed": true
   },
   "outputs": [],
   "source": []
  },
  {
   "cell_type": "markdown",
   "metadata": {},
   "source": [
    "#### Задача 6. Обучение градиентного бустинга\n",
    "\n",
    "__19. (1 балл)__\n",
    "\n",
    "А теперь попробуйте обучить на тех же данных xgboost — одну из реализаций градиентного бустинга. Подберите параметры на обучающем множестве с помощью кроссвалидации (хорошая [статья](https://www.analyticsvidhya.com/blog/2016/03/complete-guide-parameter-tuning-xgboost-with-codes-python/) про тюнинг параметров xgboost). "
   ]
  },
  {
   "cell_type": "code",
   "execution_count": null,
   "metadata": {
    "collapsed": true
   },
   "outputs": [],
   "source": [
    "### ╰( ͡° ͜ʖ ͡° )つ──☆*:・ﾟ\n"
   ]
  },
  {
   "cell_type": "markdown",
   "metadata": {
    "collapsed": true
   },
   "source": [
    "**Оценка:** 8"
   ]
  },
  {
   "cell_type": "code",
   "execution_count": null,
   "metadata": {
    "collapsed": true
   },
   "outputs": [],
   "source": []
  }
 ],
 "metadata": {
  "kernelspec": {
   "display_name": "Python 3",
   "language": "python",
   "name": "python3"
  },
  "language_info": {
   "codemirror_mode": {
    "name": "ipython",
    "version": 3
   },
   "file_extension": ".py",
   "mimetype": "text/x-python",
   "name": "python",
   "nbconvert_exporter": "python",
   "pygments_lexer": "ipython3",
   "version": "3.6.1"
  }
 },
 "nbformat": 4,
 "nbformat_minor": 1
}
