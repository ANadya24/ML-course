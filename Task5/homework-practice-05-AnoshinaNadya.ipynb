{
 "cells": [
  {
   "cell_type": "markdown",
   "metadata": {
    "run_control": {
     "frozen": false,
     "read_only": false
    }
   },
   "source": [
    "# Машинное обучение, ВМК МГУ\n",
    "\n",
    "## Практическое задание 5 \n",
    "\n",
    "### Общая информация\n",
    "Дата выдачи: 7 мая 2018\n",
    "\n",
    "Мягкий дедлайн: 23:59MSK 20 мая (за каждый день просрочки снимается 1 балл)\n",
    "\n",
    "Жесткий дедлайн: 23:59MSK 30 мая."
   ]
  },
  {
   "cell_type": "markdown",
   "metadata": {},
   "source": [
    "### О задании\n",
    "\n",
    "Мы будем решать задачу предсказания опасных событий для страховой компании: [Liberty Mutual Group: Property Inspection Prediction](https://www.kaggle.com/c/liberty-mutual-group-property-inspection-prediction). Обучающая выборка состоит из засекреченных признаков целого и строкового типов. Целевая переменная-счётчик $y \\in \\mathbb{Z}_+$.\n",
    "\n",
    "Работа состоит из следующих пунктов:\n",
    "* Предобработать наши данные [1 балл]\n",
    "* Написать свой алгоритм прогнозирования событий [2 балла]\n",
    "* Настроить линейные методы из библиотеки StatsModels для решения задачи [1 балл]\n",
    "* Настроить бустинг из библиотеки lightgbm для решения задачи [1 балл]\n",
    "* Проинтерпретировать полученные результаты и написать выводы [1 балл]\n",
    "* Бонусы [0.5 балла]\n",
    "\n",
    "\n",
    "### Оценивание и штрафы\n",
    "Каждая из задач имеет определенную «стоимость» (указана в скобках около задачи). Максимально допустимая оценка за работу — 6.5 балла.\n",
    "\n",
    "Сдавать задание после указанного срока сдачи нельзя. При выставлении неполного балла за задание в связи с наличием ошибок на усмотрение проверяющего предусмотрена возможность исправить работу на указанных в ответном письме условиях.\n",
    "\n",
    "Задание выполняется самостоятельно. «Похожие» решения считаются плагиатом и все задействованные студенты (в том числе те, у кого списали) не могут получить за него больше 0 баллов (подробнее о плагиате см. на странице курса). Если вы нашли решение какого-то из заданий (или его часть) в открытом источнике, необходимо указать ссылку на этот источник в отдельном блоке в конце вашей работы (скорее всего вы будете не единственным, кто это нашел, поэтому чтобы исключить подозрение в плагиате, необходима ссылка на источник).\n",
    "\n",
    "Неэффективная реализация кода может негативно отразиться на оценке.\n",
    "\n",
    "\n",
    "### Формат сдачи\n",
    "Для сдачи задания переименуйте получившийся файл *.ipynb в соответствии со следующим форматом: homework-practice-05-Username.ipynb, где Username — ваша фамилия и имя на латинице именно в таком порядке (например, homework-practice-05-IvanovIvan.ipynb). \n",
    "\n",
    "Далее отправьте этот файл на ml.cmc.msu@gmail.com\n",
    "\n",
    "Для удобства проверки самостоятельно посчитайте свою максимальную оценку (исходя из набора решенных задач) и укажите ниже."
   ]
  },
  {
   "cell_type": "markdown",
   "metadata": {},
   "source": [
    "** Оценка:** 6.5"
   ]
  },
  {
   "cell_type": "code",
   "execution_count": 1,
   "metadata": {
    "collapsed": true,
    "run_control": {
     "frozen": false,
     "read_only": false
    }
   },
   "outputs": [],
   "source": [
    "import numpy as np\n",
    "import pandas as pd\n",
    "import matplotlib.pyplot as plt\n",
    "import statsmodels.api as sm\n",
    "\n",
    "from scipy.optimize import minimize\n",
    "from lightgbm import LGBMModel\n",
    "from sklearn.linear_model import LinearRegression\n",
    "from sklearn.preprocessing import OneHotEncoder, LabelEncoder\n",
    "from sklearn.model_selection import train_test_split\n",
    "\n",
    "pd.set_option('max_rows', 10)\n",
    "pd.set_option('max_columns', None)\n",
    "plt.style.use('bmh')\n",
    "\n",
    "%matplotlib inline"
   ]
  },
  {
   "cell_type": "markdown",
   "metadata": {
    "run_control": {
     "frozen": false,
     "read_only": false
    }
   },
   "source": [
    "__Задание 1 (1 балл).__ Загрузка и предобработка данных."
   ]
  },
  {
   "cell_type": "code",
   "execution_count": 2,
   "metadata": {
    "run_control": {
     "frozen": false,
     "read_only": false
    }
   },
   "outputs": [
    {
     "data": {
      "text/html": [
       "<div>\n",
       "<style scoped>\n",
       "    .dataframe tbody tr th:only-of-type {\n",
       "        vertical-align: middle;\n",
       "    }\n",
       "\n",
       "    .dataframe tbody tr th {\n",
       "        vertical-align: top;\n",
       "    }\n",
       "\n",
       "    .dataframe thead th {\n",
       "        text-align: right;\n",
       "    }\n",
       "</style>\n",
       "<table border=\"1\" class=\"dataframe\">\n",
       "  <thead>\n",
       "    <tr style=\"text-align: right;\">\n",
       "      <th></th>\n",
       "      <th>Hazard</th>\n",
       "      <th>T1_V1</th>\n",
       "      <th>T1_V2</th>\n",
       "      <th>T1_V3</th>\n",
       "      <th>T1_V4</th>\n",
       "      <th>T1_V5</th>\n",
       "      <th>T1_V6</th>\n",
       "      <th>T1_V7</th>\n",
       "      <th>T1_V8</th>\n",
       "      <th>T1_V9</th>\n",
       "      <th>T1_V10</th>\n",
       "      <th>T1_V11</th>\n",
       "      <th>T1_V12</th>\n",
       "      <th>T1_V13</th>\n",
       "      <th>T1_V14</th>\n",
       "      <th>T1_V15</th>\n",
       "      <th>T1_V16</th>\n",
       "      <th>T1_V17</th>\n",
       "      <th>T2_V1</th>\n",
       "      <th>T2_V2</th>\n",
       "      <th>T2_V3</th>\n",
       "      <th>T2_V4</th>\n",
       "      <th>T2_V5</th>\n",
       "      <th>T2_V6</th>\n",
       "      <th>T2_V7</th>\n",
       "      <th>T2_V8</th>\n",
       "      <th>T2_V9</th>\n",
       "      <th>T2_V10</th>\n",
       "      <th>T2_V11</th>\n",
       "      <th>T2_V12</th>\n",
       "      <th>T2_V13</th>\n",
       "      <th>T2_V14</th>\n",
       "      <th>T2_V15</th>\n",
       "    </tr>\n",
       "    <tr>\n",
       "      <th>Id</th>\n",
       "      <th></th>\n",
       "      <th></th>\n",
       "      <th></th>\n",
       "      <th></th>\n",
       "      <th></th>\n",
       "      <th></th>\n",
       "      <th></th>\n",
       "      <th></th>\n",
       "      <th></th>\n",
       "      <th></th>\n",
       "      <th></th>\n",
       "      <th></th>\n",
       "      <th></th>\n",
       "      <th></th>\n",
       "      <th></th>\n",
       "      <th></th>\n",
       "      <th></th>\n",
       "      <th></th>\n",
       "      <th></th>\n",
       "      <th></th>\n",
       "      <th></th>\n",
       "      <th></th>\n",
       "      <th></th>\n",
       "      <th></th>\n",
       "      <th></th>\n",
       "      <th></th>\n",
       "      <th></th>\n",
       "      <th></th>\n",
       "      <th></th>\n",
       "      <th></th>\n",
       "      <th></th>\n",
       "      <th></th>\n",
       "      <th></th>\n",
       "    </tr>\n",
       "  </thead>\n",
       "  <tbody>\n",
       "    <tr>\n",
       "      <th>1</th>\n",
       "      <td>1</td>\n",
       "      <td>15</td>\n",
       "      <td>3</td>\n",
       "      <td>2</td>\n",
       "      <td>N</td>\n",
       "      <td>B</td>\n",
       "      <td>N</td>\n",
       "      <td>B</td>\n",
       "      <td>B</td>\n",
       "      <td>D</td>\n",
       "      <td>7</td>\n",
       "      <td>B</td>\n",
       "      <td>B</td>\n",
       "      <td>15</td>\n",
       "      <td>1</td>\n",
       "      <td>A</td>\n",
       "      <td>B</td>\n",
       "      <td>N</td>\n",
       "      <td>36</td>\n",
       "      <td>11</td>\n",
       "      <td>N</td>\n",
       "      <td>10</td>\n",
       "      <td>B</td>\n",
       "      <td>2</td>\n",
       "      <td>37</td>\n",
       "      <td>1</td>\n",
       "      <td>11</td>\n",
       "      <td>6</td>\n",
       "      <td>Y</td>\n",
       "      <td>N</td>\n",
       "      <td>E</td>\n",
       "      <td>2</td>\n",
       "      <td>2</td>\n",
       "    </tr>\n",
       "    <tr>\n",
       "      <th>2</th>\n",
       "      <td>4</td>\n",
       "      <td>16</td>\n",
       "      <td>14</td>\n",
       "      <td>5</td>\n",
       "      <td>H</td>\n",
       "      <td>B</td>\n",
       "      <td>N</td>\n",
       "      <td>B</td>\n",
       "      <td>B</td>\n",
       "      <td>C</td>\n",
       "      <td>12</td>\n",
       "      <td>B</td>\n",
       "      <td>B</td>\n",
       "      <td>10</td>\n",
       "      <td>3</td>\n",
       "      <td>A</td>\n",
       "      <td>B</td>\n",
       "      <td>Y</td>\n",
       "      <td>78</td>\n",
       "      <td>10</td>\n",
       "      <td>Y</td>\n",
       "      <td>17</td>\n",
       "      <td>C</td>\n",
       "      <td>2</td>\n",
       "      <td>22</td>\n",
       "      <td>1</td>\n",
       "      <td>18</td>\n",
       "      <td>5</td>\n",
       "      <td>Y</td>\n",
       "      <td>Y</td>\n",
       "      <td>E</td>\n",
       "      <td>2</td>\n",
       "      <td>1</td>\n",
       "    </tr>\n",
       "    <tr>\n",
       "      <th>3</th>\n",
       "      <td>1</td>\n",
       "      <td>10</td>\n",
       "      <td>10</td>\n",
       "      <td>5</td>\n",
       "      <td>N</td>\n",
       "      <td>K</td>\n",
       "      <td>N</td>\n",
       "      <td>B</td>\n",
       "      <td>B</td>\n",
       "      <td>E</td>\n",
       "      <td>12</td>\n",
       "      <td>H</td>\n",
       "      <td>B</td>\n",
       "      <td>15</td>\n",
       "      <td>1</td>\n",
       "      <td>A</td>\n",
       "      <td>R</td>\n",
       "      <td>Y</td>\n",
       "      <td>71</td>\n",
       "      <td>21</td>\n",
       "      <td>Y</td>\n",
       "      <td>13</td>\n",
       "      <td>C</td>\n",
       "      <td>6</td>\n",
       "      <td>37</td>\n",
       "      <td>2</td>\n",
       "      <td>14</td>\n",
       "      <td>6</td>\n",
       "      <td>Y</td>\n",
       "      <td>Y</td>\n",
       "      <td>E</td>\n",
       "      <td>6</td>\n",
       "      <td>1</td>\n",
       "    </tr>\n",
       "    <tr>\n",
       "      <th>4</th>\n",
       "      <td>1</td>\n",
       "      <td>18</td>\n",
       "      <td>18</td>\n",
       "      <td>5</td>\n",
       "      <td>N</td>\n",
       "      <td>K</td>\n",
       "      <td>N</td>\n",
       "      <td>B</td>\n",
       "      <td>B</td>\n",
       "      <td>E</td>\n",
       "      <td>3</td>\n",
       "      <td>H</td>\n",
       "      <td>B</td>\n",
       "      <td>15</td>\n",
       "      <td>1</td>\n",
       "      <td>A</td>\n",
       "      <td>R</td>\n",
       "      <td>N</td>\n",
       "      <td>71</td>\n",
       "      <td>13</td>\n",
       "      <td>N</td>\n",
       "      <td>15</td>\n",
       "      <td>A</td>\n",
       "      <td>2</td>\n",
       "      <td>25</td>\n",
       "      <td>1</td>\n",
       "      <td>1</td>\n",
       "      <td>6</td>\n",
       "      <td>Y</td>\n",
       "      <td>N</td>\n",
       "      <td>C</td>\n",
       "      <td>2</td>\n",
       "      <td>6</td>\n",
       "    </tr>\n",
       "    <tr>\n",
       "      <th>5</th>\n",
       "      <td>1</td>\n",
       "      <td>13</td>\n",
       "      <td>19</td>\n",
       "      <td>5</td>\n",
       "      <td>N</td>\n",
       "      <td>H</td>\n",
       "      <td>N</td>\n",
       "      <td>B</td>\n",
       "      <td>B</td>\n",
       "      <td>E</td>\n",
       "      <td>7</td>\n",
       "      <td>H</td>\n",
       "      <td>B</td>\n",
       "      <td>10</td>\n",
       "      <td>1</td>\n",
       "      <td>A</td>\n",
       "      <td>J</td>\n",
       "      <td>N</td>\n",
       "      <td>75</td>\n",
       "      <td>10</td>\n",
       "      <td>Y</td>\n",
       "      <td>11</td>\n",
       "      <td>B</td>\n",
       "      <td>1</td>\n",
       "      <td>22</td>\n",
       "      <td>1</td>\n",
       "      <td>2</td>\n",
       "      <td>7</td>\n",
       "      <td>N</td>\n",
       "      <td>N</td>\n",
       "      <td>E</td>\n",
       "      <td>1</td>\n",
       "      <td>1</td>\n",
       "    </tr>\n",
       "  </tbody>\n",
       "</table>\n",
       "</div>"
      ],
      "text/plain": [
       "    Hazard  T1_V1  T1_V2  T1_V3 T1_V4 T1_V5 T1_V6 T1_V7 T1_V8 T1_V9  T1_V10  \\\n",
       "Id                                                                            \n",
       "1        1     15      3      2     N     B     N     B     B     D       7   \n",
       "2        4     16     14      5     H     B     N     B     B     C      12   \n",
       "3        1     10     10      5     N     K     N     B     B     E      12   \n",
       "4        1     18     18      5     N     K     N     B     B     E       3   \n",
       "5        1     13     19      5     N     H     N     B     B     E       7   \n",
       "\n",
       "   T1_V11 T1_V12  T1_V13  T1_V14 T1_V15 T1_V16 T1_V17  T2_V1  T2_V2 T2_V3  \\\n",
       "Id                                                                          \n",
       "1       B      B      15       1      A      B      N     36     11     N   \n",
       "2       B      B      10       3      A      B      Y     78     10     Y   \n",
       "3       H      B      15       1      A      R      Y     71     21     Y   \n",
       "4       H      B      15       1      A      R      N     71     13     N   \n",
       "5       H      B      10       1      A      J      N     75     10     Y   \n",
       "\n",
       "    T2_V4 T2_V5  T2_V6  T2_V7  T2_V8  T2_V9  T2_V10 T2_V11 T2_V12 T2_V13  \\\n",
       "Id                                                                         \n",
       "1      10     B      2     37      1     11       6      Y      N      E   \n",
       "2      17     C      2     22      1     18       5      Y      Y      E   \n",
       "3      13     C      6     37      2     14       6      Y      Y      E   \n",
       "4      15     A      2     25      1      1       6      Y      N      C   \n",
       "5      11     B      1     22      1      2       7      N      N      E   \n",
       "\n",
       "    T2_V14  T2_V15  \n",
       "Id                  \n",
       "1        2       2  \n",
       "2        2       1  \n",
       "3        6       1  \n",
       "4        2       6  \n",
       "5        1       1  "
      ]
     },
     "execution_count": 2,
     "metadata": {},
     "output_type": "execute_result"
    }
   ],
   "source": [
    "data = pd.read_csv('data.csv', index_col='Id')\n",
    "data.head()"
   ]
  },
  {
   "cell_type": "code",
   "execution_count": 3,
   "metadata": {
    "run_control": {
     "frozen": false,
     "read_only": false
    }
   },
   "outputs": [
    {
     "data": {
      "text/plain": [
       "(50964, 33)"
      ]
     },
     "execution_count": 3,
     "metadata": {},
     "output_type": "execute_result"
    }
   ],
   "source": [
    "data.shape"
   ]
  },
  {
   "cell_type": "markdown",
   "metadata": {
    "run_control": {
     "frozen": false,
     "read_only": false
    }
   },
   "source": [
    "Выделим категориальные и числовые признаки:"
   ]
  },
  {
   "cell_type": "code",
   "execution_count": 4,
   "metadata": {
    "collapsed": true,
    "run_control": {
     "frozen": false,
     "read_only": false
    },
    "scrolled": true
   },
   "outputs": [],
   "source": [
    "categorical, numerical = list(), list()\n",
    "for col in data.columns[1:]:\n",
    "    if isinstance(data.loc[1, col], str):\n",
    "        categorical.append(col)\n",
    "    if isinstance(data.loc[1, col], np.int64):\n",
    "        numerical.append(col)"
   ]
  },
  {
   "cell_type": "code",
   "execution_count": 5,
   "metadata": {
    "run_control": {
     "frozen": false,
     "read_only": false
    }
   },
   "outputs": [
    {
     "data": {
      "text/plain": [
       "array([ 8, 10,  2,  4,  4,  6, 12,  4,  8, 18,  2,  2,  6,  2,  2,  5])"
      ]
     },
     "execution_count": 5,
     "metadata": {},
     "output_type": "execute_result"
    }
   ],
   "source": [
    "data[categorical].nunique().values"
   ]
  },
  {
   "cell_type": "code",
   "execution_count": 6,
   "metadata": {
    "run_control": {
     "frozen": false,
     "read_only": false
    }
   },
   "outputs": [
    {
     "data": {
      "text/plain": [
       "array([ 19,  24,   9,   5,   4,   5, 100,  39,  22,   7,   7,   3,  25,\n",
       "         7,   7,  12])"
      ]
     },
     "execution_count": 6,
     "metadata": {},
     "output_type": "execute_result"
    }
   ],
   "source": [
    "data[numerical].nunique().values"
   ]
  },
  {
   "cell_type": "markdown",
   "metadata": {
    "run_control": {
     "frozen": false,
     "read_only": false
    }
   },
   "source": [
    "Нарисуем априорное распределение ответов $p(y)$:"
   ]
  },
  {
   "cell_type": "code",
   "execution_count": 7,
   "metadata": {
    "run_control": {
     "frozen": false,
     "read_only": false
    },
    "scrolled": true
   },
   "outputs": [
    {
     "data": {
      "image/png": "[encoded data removed]",
      "text/plain": [
       "<matplotlib.figure.Figure at 0x7f8300473470>"
      ]
     },
     "metadata": {},
     "output_type": "display_data"
    }
   ],
   "source": [
    "data['Hazard'].plot(kind='hist', figsize=(10, 4), bins=40, normed=True)\n",
    "plt.show()"
   ]
  },
  {
   "cell_type": "markdown",
   "metadata": {
    "run_control": {
     "frozen": false,
     "read_only": false
    }
   },
   "source": [
    "В обобщённых линейных моделях, как и в машинном обучении в целом, мы проводим основную работу с апостериорным распределением $p(y|x)$, ведь именно в нём заключается информация о выборке. Здесь же мы знаем, что несчастные случаи во многом подчиняются распределению Пуассона, поэтому будем стараться моделировать именно его."
   ]
  },
  {
   "cell_type": "markdown",
   "metadata": {},
   "source": [
    "В выборке могут присутствовать шумовые признаки. Давайте используем простейшим способом избавиться от них.\n",
    "\n",
    "Исследуйте абсолютное значение корреляции:\n",
    "* Признаков и отклика\n",
    "* Признаков и логарифма отклика"
   ]
  },
  {
   "cell_type": "code",
   "execution_count": 8,
   "metadata": {
    "run_control": {
     "frozen": false,
     "read_only": false
    }
   },
   "outputs": [
    {
     "data": {
      "image/png": "[encoded data removed]",
      "text/plain": [
       "<matplotlib.figure.Figure at 0x7f82b89f5fd0>"
      ]
     },
     "metadata": {},
     "output_type": "display_data"
    }
   ],
   "source": [
    "corrs = [data[col].corr(data['Hazard']) for col in numerical]\n",
    "corrs = pd.DataFrame(np.abs(corrs), numerical, \n",
    "    ['abs corr with target']).sort_values('abs corr with target')\n",
    "corrs.plot(kind='bar', figsize=(10, 4))\n",
    "plt.show()"
   ]
  },
  {
   "cell_type": "code",
   "execution_count": 9,
   "metadata": {
    "run_control": {
     "frozen": false,
     "read_only": false
    }
   },
   "outputs": [
    {
     "data": {
      "image/png": "[encoded data removed]",
      "text/plain": [
       "<matplotlib.figure.Figure at 0x7f82b8030080>"
      ]
     },
     "metadata": {},
     "output_type": "display_data"
    }
   ],
   "source": [
    "# corr with log(target)\n",
    "# place your code here\n",
    "corrs_log = [data[col].corr(np.log(data['Hazard'])) for col in numerical]\n",
    "corrs_log = pd.DataFrame(np.abs(corrs_log), numerical, \n",
    "    ['abs corr with log(target)']).sort_values('abs corr with log(target)')\n",
    "corrs_log.plot(kind='bar', figsize=(10, 4))\n",
    "plt.show()"
   ]
  },
  {
   "cell_type": "markdown",
   "metadata": {
    "run_control": {
     "frozen": false,
     "read_only": false
    }
   },
   "source": [
    "Уберите несколько наиболее неинформативных признаков. Лучше сделать это число гиперпараметром и настраивать его по функционалу качества. Регрессия Пуассона соответствует предсказанию логарифма отклика, поэтому разумно исследовать взаимосвязь с именно с ним."
   ]
  },
  {
   "cell_type": "code",
   "execution_count": 10,
   "metadata": {
    "run_control": {
     "frozen": false,
     "read_only": false
    }
   },
   "outputs": [
    {
     "data": {
      "text/html": [
       "<div>\n",
       "<style scoped>\n",
       "    .dataframe tbody tr th:only-of-type {\n",
       "        vertical-align: middle;\n",
       "    }\n",
       "\n",
       "    .dataframe tbody tr th {\n",
       "        vertical-align: top;\n",
       "    }\n",
       "\n",
       "    .dataframe thead th {\n",
       "        text-align: right;\n",
       "    }\n",
       "</style>\n",
       "<table border=\"1\" class=\"dataframe\">\n",
       "  <thead>\n",
       "    <tr style=\"text-align: right;\">\n",
       "      <th></th>\n",
       "      <th>Hazard</th>\n",
       "      <th>T1_V1</th>\n",
       "      <th>T1_V2</th>\n",
       "      <th>T1_V3</th>\n",
       "      <th>T1_V4</th>\n",
       "      <th>T1_V5</th>\n",
       "      <th>T1_V6</th>\n",
       "      <th>T1_V7</th>\n",
       "      <th>T1_V8</th>\n",
       "      <th>T1_V9</th>\n",
       "      <th>T1_V11</th>\n",
       "      <th>T1_V12</th>\n",
       "      <th>T1_V14</th>\n",
       "      <th>T1_V15</th>\n",
       "      <th>T1_V16</th>\n",
       "      <th>T1_V17</th>\n",
       "      <th>T2_V1</th>\n",
       "      <th>T2_V2</th>\n",
       "      <th>T2_V3</th>\n",
       "      <th>T2_V4</th>\n",
       "      <th>T2_V5</th>\n",
       "      <th>T2_V6</th>\n",
       "      <th>T2_V7</th>\n",
       "      <th>T2_V9</th>\n",
       "      <th>T2_V10</th>\n",
       "      <th>T2_V11</th>\n",
       "      <th>T2_V12</th>\n",
       "      <th>T2_V13</th>\n",
       "      <th>T2_V14</th>\n",
       "      <th>T2_V15</th>\n",
       "    </tr>\n",
       "    <tr>\n",
       "      <th>Id</th>\n",
       "      <th></th>\n",
       "      <th></th>\n",
       "      <th></th>\n",
       "      <th></th>\n",
       "      <th></th>\n",
       "      <th></th>\n",
       "      <th></th>\n",
       "      <th></th>\n",
       "      <th></th>\n",
       "      <th></th>\n",
       "      <th></th>\n",
       "      <th></th>\n",
       "      <th></th>\n",
       "      <th></th>\n",
       "      <th></th>\n",
       "      <th></th>\n",
       "      <th></th>\n",
       "      <th></th>\n",
       "      <th></th>\n",
       "      <th></th>\n",
       "      <th></th>\n",
       "      <th></th>\n",
       "      <th></th>\n",
       "      <th></th>\n",
       "      <th></th>\n",
       "      <th></th>\n",
       "      <th></th>\n",
       "      <th></th>\n",
       "      <th></th>\n",
       "      <th></th>\n",
       "    </tr>\n",
       "  </thead>\n",
       "  <tbody>\n",
       "    <tr>\n",
       "      <th>1</th>\n",
       "      <td>1</td>\n",
       "      <td>15</td>\n",
       "      <td>3</td>\n",
       "      <td>2</td>\n",
       "      <td>N</td>\n",
       "      <td>B</td>\n",
       "      <td>N</td>\n",
       "      <td>B</td>\n",
       "      <td>B</td>\n",
       "      <td>D</td>\n",
       "      <td>B</td>\n",
       "      <td>B</td>\n",
       "      <td>1</td>\n",
       "      <td>A</td>\n",
       "      <td>B</td>\n",
       "      <td>N</td>\n",
       "      <td>36</td>\n",
       "      <td>11</td>\n",
       "      <td>N</td>\n",
       "      <td>10</td>\n",
       "      <td>B</td>\n",
       "      <td>2</td>\n",
       "      <td>37</td>\n",
       "      <td>11</td>\n",
       "      <td>6</td>\n",
       "      <td>Y</td>\n",
       "      <td>N</td>\n",
       "      <td>E</td>\n",
       "      <td>2</td>\n",
       "      <td>2</td>\n",
       "    </tr>\n",
       "    <tr>\n",
       "      <th>2</th>\n",
       "      <td>4</td>\n",
       "      <td>16</td>\n",
       "      <td>14</td>\n",
       "      <td>5</td>\n",
       "      <td>H</td>\n",
       "      <td>B</td>\n",
       "      <td>N</td>\n",
       "      <td>B</td>\n",
       "      <td>B</td>\n",
       "      <td>C</td>\n",
       "      <td>B</td>\n",
       "      <td>B</td>\n",
       "      <td>3</td>\n",
       "      <td>A</td>\n",
       "      <td>B</td>\n",
       "      <td>Y</td>\n",
       "      <td>78</td>\n",
       "      <td>10</td>\n",
       "      <td>Y</td>\n",
       "      <td>17</td>\n",
       "      <td>C</td>\n",
       "      <td>2</td>\n",
       "      <td>22</td>\n",
       "      <td>18</td>\n",
       "      <td>5</td>\n",
       "      <td>Y</td>\n",
       "      <td>Y</td>\n",
       "      <td>E</td>\n",
       "      <td>2</td>\n",
       "      <td>1</td>\n",
       "    </tr>\n",
       "    <tr>\n",
       "      <th>3</th>\n",
       "      <td>1</td>\n",
       "      <td>10</td>\n",
       "      <td>10</td>\n",
       "      <td>5</td>\n",
       "      <td>N</td>\n",
       "      <td>K</td>\n",
       "      <td>N</td>\n",
       "      <td>B</td>\n",
       "      <td>B</td>\n",
       "      <td>E</td>\n",
       "      <td>H</td>\n",
       "      <td>B</td>\n",
       "      <td>1</td>\n",
       "      <td>A</td>\n",
       "      <td>R</td>\n",
       "      <td>Y</td>\n",
       "      <td>71</td>\n",
       "      <td>21</td>\n",
       "      <td>Y</td>\n",
       "      <td>13</td>\n",
       "      <td>C</td>\n",
       "      <td>6</td>\n",
       "      <td>37</td>\n",
       "      <td>14</td>\n",
       "      <td>6</td>\n",
       "      <td>Y</td>\n",
       "      <td>Y</td>\n",
       "      <td>E</td>\n",
       "      <td>6</td>\n",
       "      <td>1</td>\n",
       "    </tr>\n",
       "    <tr>\n",
       "      <th>4</th>\n",
       "      <td>1</td>\n",
       "      <td>18</td>\n",
       "      <td>18</td>\n",
       "      <td>5</td>\n",
       "      <td>N</td>\n",
       "      <td>K</td>\n",
       "      <td>N</td>\n",
       "      <td>B</td>\n",
       "      <td>B</td>\n",
       "      <td>E</td>\n",
       "      <td>H</td>\n",
       "      <td>B</td>\n",
       "      <td>1</td>\n",
       "      <td>A</td>\n",
       "      <td>R</td>\n",
       "      <td>N</td>\n",
       "      <td>71</td>\n",
       "      <td>13</td>\n",
       "      <td>N</td>\n",
       "      <td>15</td>\n",
       "      <td>A</td>\n",
       "      <td>2</td>\n",
       "      <td>25</td>\n",
       "      <td>1</td>\n",
       "      <td>6</td>\n",
       "      <td>Y</td>\n",
       "      <td>N</td>\n",
       "      <td>C</td>\n",
       "      <td>2</td>\n",
       "      <td>6</td>\n",
       "    </tr>\n",
       "    <tr>\n",
       "      <th>5</th>\n",
       "      <td>1</td>\n",
       "      <td>13</td>\n",
       "      <td>19</td>\n",
       "      <td>5</td>\n",
       "      <td>N</td>\n",
       "      <td>H</td>\n",
       "      <td>N</td>\n",
       "      <td>B</td>\n",
       "      <td>B</td>\n",
       "      <td>E</td>\n",
       "      <td>H</td>\n",
       "      <td>B</td>\n",
       "      <td>1</td>\n",
       "      <td>A</td>\n",
       "      <td>J</td>\n",
       "      <td>N</td>\n",
       "      <td>75</td>\n",
       "      <td>10</td>\n",
       "      <td>Y</td>\n",
       "      <td>11</td>\n",
       "      <td>B</td>\n",
       "      <td>1</td>\n",
       "      <td>22</td>\n",
       "      <td>2</td>\n",
       "      <td>7</td>\n",
       "      <td>N</td>\n",
       "      <td>N</td>\n",
       "      <td>E</td>\n",
       "      <td>1</td>\n",
       "      <td>1</td>\n",
       "    </tr>\n",
       "  </tbody>\n",
       "</table>\n",
       "</div>"
      ],
      "text/plain": [
       "    Hazard  T1_V1  T1_V2  T1_V3 T1_V4 T1_V5 T1_V6 T1_V7 T1_V8 T1_V9 T1_V11  \\\n",
       "Id                                                                           \n",
       "1        1     15      3      2     N     B     N     B     B     D      B   \n",
       "2        4     16     14      5     H     B     N     B     B     C      B   \n",
       "3        1     10     10      5     N     K     N     B     B     E      H   \n",
       "4        1     18     18      5     N     K     N     B     B     E      H   \n",
       "5        1     13     19      5     N     H     N     B     B     E      H   \n",
       "\n",
       "   T1_V12  T1_V14 T1_V15 T1_V16 T1_V17  T2_V1  T2_V2 T2_V3  T2_V4 T2_V5  \\\n",
       "Id                                                                        \n",
       "1       B       1      A      B      N     36     11     N     10     B   \n",
       "2       B       3      A      B      Y     78     10     Y     17     C   \n",
       "3       B       1      A      R      Y     71     21     Y     13     C   \n",
       "4       B       1      A      R      N     71     13     N     15     A   \n",
       "5       B       1      A      J      N     75     10     Y     11     B   \n",
       "\n",
       "    T2_V6  T2_V7  T2_V9  T2_V10 T2_V11 T2_V12 T2_V13  T2_V14  T2_V15  \n",
       "Id                                                                    \n",
       "1       2     37     11       6      Y      N      E       2       2  \n",
       "2       2     22     18       5      Y      Y      E       2       1  \n",
       "3       6     37     14       6      Y      Y      E       6       1  \n",
       "4       2     25      1       6      Y      N      C       2       6  \n",
       "5       1     22      2       7      N      N      E       1       1  "
      ]
     },
     "execution_count": 10,
     "metadata": {},
     "output_type": "execute_result"
    }
   ],
   "source": [
    "# place your code here\n",
    "num_of_noise_features = 3\n",
    "data.drop([col for col in numerical if col in corrs_log[:num_of_noise_features].index], axis=1, inplace=True)\n",
    "data.head()"
   ]
  },
  {
   "cell_type": "markdown",
   "metadata": {
    "run_control": {
     "frozen": false,
     "read_only": false
    }
   },
   "source": [
    "Закодируем буквы категориальных признаков в числа:"
   ]
  },
  {
   "cell_type": "code",
   "execution_count": 11,
   "metadata": {
    "collapsed": true,
    "run_control": {
     "frozen": false,
     "read_only": false
    }
   },
   "outputs": [],
   "source": [
    "label_encoder = LabelEncoder()\n",
    "data[categorical] = data[categorical].apply(label_encoder.fit_transform)"
   ]
  },
  {
   "cell_type": "markdown",
   "metadata": {
    "run_control": {
     "frozen": false,
     "read_only": false
    }
   },
   "source": [
    "Разделим объекты и метки нашей выборки. Область определения счётчиков Пуассона начинается с нуля $\\{0, 1, 2...\\}$. Поэтому сдвинем наши метки влево на $1$. Это на самом деле приводит к существенному росту качества на валидации. Однако если в конкурсе нужно предсказывать с единицы $\\{1, 2, 3...\\}$, то потом нужно прибавить единицу."
   ]
  },
  {
   "cell_type": "code",
   "execution_count": 12,
   "metadata": {
    "collapsed": true,
    "run_control": {
     "frozen": false,
     "read_only": false
    }
   },
   "outputs": [],
   "source": [
    "objects = data.loc[:, 'T1_V1':]\n",
    "labels = data['Hazard'] - 1"
   ]
  },
  {
   "cell_type": "code",
   "execution_count": 13,
   "metadata": {},
   "outputs": [
    {
     "data": {
      "text/plain": [
       "(50964,)"
      ]
     },
     "execution_count": 13,
     "metadata": {},
     "output_type": "execute_result"
    }
   ],
   "source": [
    "labels.shape"
   ]
  },
  {
   "cell_type": "markdown",
   "metadata": {
    "run_control": {
     "frozen": false,
     "read_only": false
    }
   },
   "source": [
    "Сделаем бинарное кодирование категориальных признаков:"
   ]
  },
  {
   "cell_type": "code",
   "execution_count": 14,
   "metadata": {
    "collapsed": true,
    "run_control": {
     "frozen": false,
     "read_only": false
    }
   },
   "outputs": [],
   "source": [
    "mask = objects.columns.isin(categorical)\n",
    "onehot_encoder = OneHotEncoder(categorical_features=mask, sparse=False)\n",
    "objects_encoded = onehot_encoder.fit_transform(objects)"
   ]
  },
  {
   "cell_type": "markdown",
   "metadata": {
    "run_control": {
     "frozen": false,
     "read_only": false
    }
   },
   "source": [
    "Разделим выборку на обучающую и контрольную:"
   ]
  },
  {
   "cell_type": "code",
   "execution_count": 15,
   "metadata": {
    "collapsed": true,
    "run_control": {
     "frozen": false,
     "read_only": false
    }
   },
   "outputs": [],
   "source": [
    "train_objects, test_objects, train_labels, test_labels = train_test_split(\n",
    "    objects_encoded, labels.as_matrix(), random_state=1, test_size=0.2, stratify=labels\n",
    ")"
   ]
  },
  {
   "cell_type": "markdown",
   "metadata": {
    "run_control": {
     "frozen": false,
     "read_only": false
    }
   },
   "source": [
    "__Задание 2 (1 балл).__ Обучение регрессии Пуассона.\n",
    "\n",
    "Реализуйте подсчёт функционала качества и градиентов для нашей линейной модели. Формулы вы можете найти в [конспекте](https://github.com/esokolov/ml-course-msu/blob/master/ML17/lecture-notes/sem20-glm.pdf) по обобщённым линейным моделям или вывести самостоятельно, принимая $$p(y|x, \\lambda) = \\frac{e^{-\\lambda(x)}\\lambda(x)^y}{y!}.$$ Численные алгоритмы должны работать по возможности быстро, поэтому циклов быть не должно, и все операции реализуются векторно. Дальше мы будем использовать эту функцию в качестве аргумента другой функции. Можете попробовать добавить в модель регуляризатор."
   ]
  },
  {
   "cell_type": "code",
   "execution_count": 16,
   "metadata": {
    "collapsed": true,
    "run_control": {
     "frozen": false,
     "read_only": false
    }
   },
   "outputs": [],
   "source": [
    "def oracle(w, X, y):\n",
    "    \"\"\"\n",
    "    :param w: weights\n",
    "    :param X: features\n",
    "    :param y: target\n",
    "    :yield: loss, grad\n",
    "    \"\"\"\n",
    "    \n",
    "    # place your code here\n",
    "    scalar_product = X.dot(w)\n",
    "    L1 = np.exp(scalar_product)\n",
    "    L2 = y * scalar_product\n",
    "    loss = L1.sum(axis=0) - L2.sum(axis=0)\n",
    "    grad = X.transpose().dot(L1-y)\n",
    "    return loss, grad"
   ]
  },
  {
   "cell_type": "markdown",
   "metadata": {
    "run_control": {
     "frozen": false,
     "read_only": false
    }
   },
   "source": [
    "Добавьте к признакам столбец единиц, чтобы учесть вектор сдвига. Это важно. Библиотечные алгоритмы уже учитывают это внутри себя, поэтому им на вход нужно подавать исходную выборку."
   ]
  },
  {
   "cell_type": "code",
   "execution_count": 17,
   "metadata": {
    "collapsed": true,
    "run_control": {
     "frozen": false,
     "read_only": false
    }
   },
   "outputs": [],
   "source": [
    "train_objects_bias = np.ones(train_labels.shape)\n",
    "test_objects_bias = np.ones(test_labels.shape)\n",
    "train_objects = np.insert(train_objects, 0, train_objects_bias, axis=1)\n",
    "test_objects = np.insert(test_objects, 0, test_objects_bias, axis=1)"
   ]
  },
  {
   "cell_type": "markdown",
   "metadata": {
    "run_control": {
     "frozen": false,
     "read_only": false
    }
   },
   "source": [
    "Дальше воспользуйтесь функцией _scipy.optimize.minimize_, в ней реализовано множество методов спуска. Рекоммендуется взять [L-BFGS-B](http://www.machinelearning.ru/wiki/images/6/65/MOMO17_Seminar6.pdf). Начальное приближение весов $x_0$ возьмите из стандартного нормального распределения как _np.random.randn_. Возможно придётся запустить функцию несколько раз, прежде чем начальное приближение окажется удачным, и алгоритм покажет хороший результат. \n",
    "\n",
    "Сделайте прогноз для тестовых объектов (не забудьте про экспоненту). Измерьте качество с помощью коэффициента Джини (чем выше – тем лучше)."
   ]
  },
  {
   "cell_type": "code",
   "execution_count": 18,
   "metadata": {
    "collapsed": true
   },
   "outputs": [],
   "source": [
    "def gini(y_true, y_pred):\n",
    "    # check and get number of samples\n",
    "    assert y_true.shape == y_pred.shape\n",
    "    n_samples = y_true.shape[0]\n",
    "    \n",
    "    # sort rows on prediction column \n",
    "    # (from largest to smallest)\n",
    "    arr = np.array([y_true, y_pred]).transpose()\n",
    "    true_order = arr[arr[:,0].argsort()][::-1,0]\n",
    "    pred_order = arr[arr[:,1].argsort()][::-1,0]\n",
    "    \n",
    "    # get Lorenz curves\n",
    "    L_true = np.cumsum(true_order) / np.sum(true_order)\n",
    "    L_pred = np.cumsum(pred_order) / np.sum(pred_order)\n",
    "    L_ones = np.linspace(1/n_samples, 1, n_samples)\n",
    "    \n",
    "    # get Gini coefficients (area between curves)\n",
    "    G_true = np.sum(L_ones - L_true)\n",
    "    G_pred = np.sum(L_ones - L_pred)\n",
    "    \n",
    "    # normalize to true Gini coefficient\n",
    "    return G_pred/G_true"
   ]
  },
  {
   "cell_type": "code",
   "execution_count": 28,
   "metadata": {
    "run_control": {
     "frozen": false,
     "read_only": false
    }
   },
   "outputs": [
    {
     "data": {
      "text/plain": [
       "0.31773135071694353"
      ]
     },
     "execution_count": 28,
     "metadata": {},
     "output_type": "execute_result"
    }
   ],
   "source": [
    "# place your code here\n",
    "x0 = np.random.randn(train_objects.shape[1])\n",
    "poisson_results = minimize(oracle, x0, args=(train_objects, train_labels), method='BFGS', jac=True) #change parameters\n",
    "w = poisson_results.x\n",
    "pred_labels = np.exp(test_objects.dot(w))\n",
    "gini(test_labels, pred_labels)"
   ]
  },
  {
   "cell_type": "markdown",
   "metadata": {
    "run_control": {
     "frozen": false,
     "read_only": false
    }
   },
   "source": [
    "__Задание 3 (1 балл).__ Линейные модели из коробки.\n",
    "\n",
    "Запустите базовую линейную регрессию *sklearn.linear_model.LinearRegression* и измерьте качество. Сравните полученный результат с работой вашего алгоритма."
   ]
  },
  {
   "cell_type": "code",
   "execution_count": 20,
   "metadata": {
    "run_control": {
     "frozen": false,
     "read_only": false
    }
   },
   "outputs": [
    {
     "data": {
      "text/plain": [
       "0.31373415244076458"
      ]
     },
     "execution_count": 20,
     "metadata": {},
     "output_type": "execute_result"
    }
   ],
   "source": [
    "# place your code here\n",
    "linreg = LinearRegression()\n",
    "linreg.fit(train_objects, train_labels)\n",
    "pred_reg_labels = linreg.predict(test_objects)\n",
    "gini(test_labels, pred_reg_labels)"
   ]
  },
  {
   "cell_type": "markdown",
   "metadata": {
    "run_control": {
     "frozen": false,
     "read_only": false
    }
   },
   "source": [
    "Здесь мы познакомимся с новой библиотекой [StatsModels](http://www.statsmodels.org/dev/index.html). Она предназначена скорее для описательной статистики, проверки гипотез и построения доверительных интервалов, чем для прогнозирования — в отличие от scikit-learn, который создан специально для решения задач машинного обучения. Единственное, в StatsModels реализован очень сильный алгоритм прогнозирования временных рядов – [SARIMAX](http://www.statsmodels.org/dev/generated/statsmodels.tsa.statespace.sarimax.SARIMAX.html), который при правильной настройке работает очень хорошо и занимает первые места в конкурсах ([Запись трансляции ML тренировки 03.02.18 | TrainMyData Ascott](https://www.youtube.com/watch?v=9MQEEyYDCQc&t=1101s)). \n",
    "\n",
    "Мы же попробуем запустить обобщённые линейные модели с различными вероятностными распределениями [GLM](http://www.statsmodels.org/dev/glm.html). Запустите алгоритм _sm.GLM_ на нескольких распределениях family, посмотрите на качество и проинтерпретируйте результаты. Синтаксис StatsModels немного отличается от scikit-learn тем, что здесь объекты и метки задаются в конструкторе модели, метод _fit()_ идёт без аргументов, и после обучения сохраняется новая модель с результатами и методом _predict_. Должно быть не сложно."
   ]
  },
  {
   "cell_type": "markdown",
   "metadata": {},
   "source": [
    "__Gaussian__"
   ]
  },
  {
   "cell_type": "code",
   "execution_count": 21,
   "metadata": {
    "run_control": {
     "frozen": false,
     "read_only": false
    }
   },
   "outputs": [
    {
     "data": {
      "text/plain": [
       "0.31518237139916933"
      ]
     },
     "execution_count": 21,
     "metadata": {},
     "output_type": "execute_result"
    }
   ],
   "source": [
    "#place your code here\n",
    "gaussian_sm_model = sm.GLM(train_labels, train_objects)\n",
    "gaussian_sm_results = gaussian_sm_model.fit()\n",
    "pred_labels = gaussian_sm_results.predict(test_objects)\n",
    "gini(test_labels, pred_labels)"
   ]
  },
  {
   "cell_type": "markdown",
   "metadata": {},
   "source": [
    "__Poisson__"
   ]
  },
  {
   "cell_type": "code",
   "execution_count": 22,
   "metadata": {
    "run_control": {
     "frozen": false,
     "read_only": false
    }
   },
   "outputs": [
    {
     "data": {
      "text/plain": [
       "0.31773138134892792"
      ]
     },
     "execution_count": 22,
     "metadata": {},
     "output_type": "execute_result"
    }
   ],
   "source": [
    "# place your code here\n",
    "poisson_sm_model = sm.GLM(train_labels, train_objects, family=sm.families.Poisson())\n",
    "poisson_sm_results = poisson_sm_model.fit()\n",
    "pred_labels = poisson_sm_results.predict(test_objects)\n",
    "gini(test_labels, pred_labels)"
   ]
  },
  {
   "cell_type": "markdown",
   "metadata": {},
   "source": [
    "__NegativeBinomial (Pascal)__"
   ]
  },
  {
   "cell_type": "code",
   "execution_count": 23,
   "metadata": {
    "run_control": {
     "frozen": false,
     "read_only": false
    }
   },
   "outputs": [
    {
     "data": {
      "text/plain": [
       "0.31850213312970815"
      ]
     },
     "execution_count": 23,
     "metadata": {},
     "output_type": "execute_result"
    }
   ],
   "source": [
    "# place your code here\n",
    "neg_binomial_sm_model = sm.GLM(train_labels, train_objects, family=sm.families.NegativeBinomial())\n",
    "neg_binomial_sm_results = neg_binomial_sm_model.fit()\n",
    "pred_labels = neg_binomial_sm_results.predict(test_objects)\n",
    "gini(test_labels, pred_labels)"
   ]
  },
  {
   "cell_type": "markdown",
   "metadata": {
    "run_control": {
     "frozen": false,
     "read_only": false
    }
   },
   "source": [
    "Ага, качество в последнем случае получилось лучше. На практике чаще используют именно отрицательное Биномиальное распределение. Оно является обобщение геометрического распределения и даёт некоторую свободу в выборе среднего и дисперсии для $p(y|x)$, тогда как в распределении Пуассона среднее и дисперсия совпадают. Если вам будет интересно, можете прочитать подробнее на вики [NegativeBinomial](https://en.m.wikipedia.org/wiki/Negative_binomial_distribution)."
   ]
  },
  {
   "cell_type": "markdown",
   "metadata": {},
   "source": [
    "__Задание 4. (1 балл)__ Прогнозирование с помощью бустинга."
   ]
  },
  {
   "cell_type": "markdown",
   "metadata": {},
   "source": [
    "Что бы мы ни делали, бустинги по-прежнему остаются самыми лучшими алгоритмами прогнозирования для широкого спектра задач. В особенности, если мы не работаем со структурированными данными: последовательностями или картинками. Бустинг хоть и сложный по своей структуре алгоритм, но вероятностные распределения не чужды и ему. Запустите _LGBMModel_ используя классическую регрессию и регрессию Пуассона. Настройте параметры, чтобы добиться наилучшего качества. В особенности обратите внимание на *objective*, *n_estimators*, *num_leaves* и *colsample_bytree*."
   ]
  },
  {
   "cell_type": "code",
   "execution_count": 30,
   "metadata": {
    "run_control": {
     "frozen": false,
     "read_only": false
    }
   },
   "outputs": [
    {
     "data": {
      "text/plain": [
       "0.36970290283387508"
      ]
     },
     "execution_count": 30,
     "metadata": {},
     "output_type": "execute_result"
    }
   ],
   "source": [
    "# objective='regression'\n",
    "lgbm = LGBMModel(boosting_type='dart', num_leaves=80, max_depth=7,\n",
    "                 n_estimators=200, \n",
    "                 objective='regression', colsample_bytree=0.7)\n",
    "lgbm.fit(train_objects, train_labels)\n",
    "pred_labels = lgbm.predict(test_objects)\n",
    "gini(test_labels, pred_labels)"
   ]
  },
  {
   "cell_type": "code",
   "execution_count": 46,
   "metadata": {
    "run_control": {
     "frozen": false,
     "read_only": false
    }
   },
   "outputs": [
    {
     "data": {
      "text/plain": [
       "0.37025025555243513"
      ]
     },
     "execution_count": 46,
     "metadata": {},
     "output_type": "execute_result"
    }
   ],
   "source": [
    "# objective='poisson'\n",
    "lgbm2 = LGBMModel(boosting_type='gbdt', num_leaves=200, max_depth=8,\n",
    "                 n_estimators=150, \n",
    "                 objective='poisson', colsample_bytree=0.7)\n",
    "lgbm2.fit(train_objects, train_labels)\n",
    "pred_labels = lgbm2.predict(test_objects)\n",
    "gini(test_labels, pred_labels)"
   ]
  },
  {
   "cell_type": "markdown",
   "metadata": {
    "run_control": {
     "frozen": false,
     "read_only": false
    }
   },
   "source": [
    "__Задание 5 (1 балл).__ Выводы."
   ]
  },
  {
   "cell_type": "markdown",
   "metadata": {},
   "source": [
    "Обобщенные линейные модели более точные в сравнении с линейной регрессией, для данных про опасные события для страховой компании: Liberty Mutual Group: Property Inspection Prediction наиболее успешным является обощенная линейная модель с отрицательным биномиальным распределением в пакете StatsModels, однако градиентный бустинг превосходит все предыдущие методы, поскольку метод представляет собой ансамбль деревьев, причем каждое последующее дерево строится, учитывая ошибки предыдущих. Таким образом, количество деревьев в градиентном бустинге перерастает в качество метода."
   ]
  },
  {
   "cell_type": "markdown",
   "metadata": {},
   "source": [
    "__Задание 7 (0.3 балла).__ Какую последнюю книгу вы прочитали?"
   ]
  },
  {
   "cell_type": "markdown",
   "metadata": {},
   "source": [
    "по машинному обучению: Peter Flach \"MACHINE LEARNING\n",
    "The Art and Science of Algorithms\n",
    "that Make Sense of Data\" (частично)\n",
    "\n",
    "а если просто, то Бернард Шлинк \"Чтец\""
   ]
  },
  {
   "cell_type": "markdown",
   "metadata": {},
   "source": [
    "__Задание 6 (0.2 балла).__ А здесь оставьте фидбек на задание"
   ]
  },
  {
   "cell_type": "markdown",
   "metadata": {},
   "source": [
    "Задание интереное, очень полезно проанализировать новые методы, использовать библиотеку StatsModels, и наглядно увидеть преимущество градиентного бустинга по сравнению с другими методами"
   ]
  }
 ],
 "metadata": {
  "hide_input": false,
  "kernelspec": {
   "display_name": "Python 3",
   "language": "python",
   "name": "python3"
  },
  "language_info": {
   "codemirror_mode": {
    "name": "ipython",
    "version": 3
   },
   "file_extension": ".py",
   "mimetype": "text/x-python",
   "name": "python",
   "nbconvert_exporter": "python",
   "pygments_lexer": "ipython3",
   "version": "3.6.2"
  },
  "widgets": {
   "state": {},
   "version": "1.1.2"
  }
 },
 "nbformat": 4,
 "nbformat_minor": 1
}
